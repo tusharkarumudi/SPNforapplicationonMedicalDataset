{
 "cells": [
  {
   "cell_type": "code",
   "execution_count": 2,
   "metadata": {},
   "outputs": [],
   "source": [
    "import numpy as np\n",
    "import pandas as pd\n",
    "import spn\n",
    "import pandas.plotting\n",
    "import random\n",
    "random.seed(42)"
   ]
  },
  {
   "cell_type": "code",
   "execution_count": 3,
   "metadata": {},
   "outputs": [
    {
     "name": "stdout",
     "output_type": "stream",
     "text": [
      "<module 'spn' from 'c:\\\\users\\\\tusha\\\\appdata\\\\local\\\\programs\\\\python\\\\python35-32\\\\lib\\\\site-packages\\\\spn\\\\__init__.py'>\n"
     ]
    }
   ],
   "source": [
    "print(spn)"
   ]
  },
  {
   "cell_type": "code",
   "execution_count": 4,
   "metadata": {},
   "outputs": [],
   "source": [
    "a=np.random.randint(2, size=30000)\n",
    "b=np.random.randint(2, size=30000)\n",
    "c=9*a+3*b\n",
    "\n",
    "a_t=np.random.randint(2, size=30000)\n",
    "b_t=np.random.randint(2, size=30000)\n",
    "c_t=9*a_t+3*b_t\n"
   ]
  },
  {
   "cell_type": "code",
   "execution_count": 6,
   "metadata": {},
   "outputs": [],
   "source": [
    "train_data=np.column_stack((a,b,c))\n",
    "test_data=np.column_stack((a_t,b_t,c_t))"
   ]
  },
  {
   "cell_type": "code",
   "execution_count": 7,
   "metadata": {},
   "outputs": [
    {
     "data": {
      "text/plain": [
       "(30000, 3)"
      ]
     },
     "execution_count": 7,
     "metadata": {},
     "output_type": "execute_result"
    }
   ],
   "source": [
    "train_data.shape\n",
    "test_data.shape"
   ]
  },
  {
   "cell_type": "code",
   "execution_count": 10,
   "metadata": {},
   "outputs": [],
   "source": [
    "from spn.structure.Base import Context\n",
    "from spn.structure.leaves.parametric.Parametric import Categorical, Gaussian\n",
    "\n",
    "#ds_context = Context(parametric_types=[Categorical,Categorical,Categorical]).add_domains(train_data)\n",
    "\n",
    "from spn.algorithms.LearningWrappers import learn_parametric,learn_classifier\n",
    "spn = learn_classifier(train_data,\n",
    "                       Context(parametric_types=[Categorical, Categorical, Categorical]).add_domains(train_data),\n",
    "                       learn_parametric, -1)"
   ]
  },
  {
   "cell_type": "code",
   "execution_count": 11,
   "metadata": {},
   "outputs": [],
   "source": [
    "from spn.algorithms.Validity import is_valid"
   ]
  },
  {
   "cell_type": "code",
   "execution_count": 12,
   "metadata": {},
   "outputs": [
    {
     "name": "stdout",
     "output_type": "stream",
     "text": [
      "(True, None)\n"
     ]
    }
   ],
   "source": [
    "print(is_valid(spn))"
   ]
  },
  {
   "cell_type": "code",
   "execution_count": 13,
   "metadata": {},
   "outputs": [],
   "source": [
    "from spn.io.Graphics import plot_spn\n"
   ]
  },
  {
   "cell_type": "code",
   "execution_count": 14,
   "metadata": {},
   "outputs": [
    {
     "name": "stdout",
     "output_type": "stream",
     "text": [
      "---Structure Statistics---\n",
      "# nodes             17\n",
      "    # sum nodes     1\n",
      "    # prod nodes    4\n",
      "    # leaf nodes    12\n",
      "# edges             16\n",
      "# layers            3\n"
     ]
    }
   ],
   "source": [
    "from spn.algorithms.Statistics import get_structure_stats\n",
    "print(get_structure_stats(spn))"
   ]
  },
  {
   "cell_type": "code",
   "execution_count": 15,
   "metadata": {},
   "outputs": [
    {
     "name": "stdout",
     "output_type": "stream",
     "text": [
      "[SumNode_0, ProductNode_1, ProductNode_2, ProductNode_3, ProductNode_4, CategoricalNode_5, CategoricalNode_6, CategoricalNode_7, CategoricalNode_8, CategoricalNode_9, CategoricalNode_10, CategoricalNode_11, CategoricalNode_12, CategoricalNode_13, CategoricalNode_14, CategoricalNode_15, CategoricalNode_16]\n"
     ]
    }
   ],
   "source": [
    "plot_spn(spn, 'simplespn.png')"
   ]
  },
  {
   "cell_type": "code",
   "execution_count": 29,
   "metadata": {
    "scrolled": true
   },
   "outputs": [
    {
     "name": "stdout",
     "output_type": "stream",
     "text": [
      "(0.2528666666666667*((Categorical(V0|p=[1.0, 0.0]) * Categorical(V1|p=[1.0, 0.0]) * Categorical(V2|p=[1.0, 0.0, 0.0, 0.0, 0.0, 0.0, 0.0, 0.0, 0.0, 0.0, 0.0, 0.0, 0.0]))) + 0.2489*((Categorical(V0|p=[1.0, 0.0]) * Categorical(V1|p=[0.0, 1.0]) * Categorical(V2|p=[0.0, 0.0, 0.0, 1.0, 0.0, 0.0, 0.0, 0.0, 0.0, 0.0, 0.0, 0.0, 0.0]))) + 0.2527*((Categorical(V0|p=[0.0, 1.0]) * Categorical(V1|p=[1.0, 0.0]) * Categorical(V2|p=[0.0, 0.0, 0.0, 0.0, 0.0, 0.0, 0.0, 0.0, 0.0, 1.0, 0.0, 0.0, 0.0]))) + 0.24553333333333333*((Categorical(V0|p=[0.0, 1.0]) * Categorical(V1|p=[0.0, 1.0]) * Categorical(V2|p=[0.0, 0.0, 0.0, 0.0, 0.0, 0.0, 0.0, 0.0, 0.0, 0.0, 0.0, 0.0, 1.0]))))\n"
     ]
    }
   ],
   "source": [
    "from spn.io.Text import spn_to_str_equation\n",
    "txt = spn_to_str_equation(spn)\n",
    "print(txt)"
   ]
  },
  {
   "cell_type": "code",
   "execution_count": 30,
   "metadata": {},
   "outputs": [
    {
     "name": "stdout",
     "output_type": "stream",
     "text": [
      "[[-1.37489294]\n",
      " [-1.37489294]\n",
      " [-1.39070407]\n",
      " ...\n",
      " [-1.37555226]\n",
      " [-1.40432256]\n",
      " [-1.40432256]] [[0.25286667]\n",
      " [0.25286667]\n",
      " [0.2489    ]\n",
      " ...\n",
      " [0.2527    ]\n",
      " [0.24553333]\n",
      " [0.24553333]]\n"
     ]
    }
   ],
   "source": [
    "from spn.algorithms.Inference import log_likelihood\n",
    "\n",
    "ll = log_likelihood(spn, test_data)\n",
    "print(ll, np.exp(ll))"
   ]
  },
  {
   "cell_type": "code",
   "execution_count": 31,
   "metadata": {},
   "outputs": [],
   "source": [
    "data=[[0,1,np.nan],[1,0,np.nan],[0,0,np.nan],[1,1,np.nan]]\n",
    "data_actual=[[0,1,3],[1,0,9],[0,0,0],[1,1,12]]\n",
    "data=np.array(data)\n",
    "data_actual=np.array(data_actual)"
   ]
  },
  {
   "cell_type": "code",
   "execution_count": 32,
   "metadata": {},
   "outputs": [
    {
     "data": {
      "text/plain": [
       "array([[ 0.,  1.,  3.],\n",
       "       [ 1.,  0.,  9.],\n",
       "       [ 0.,  0.,  0.],\n",
       "       [ 1.,  1., 12.]])"
      ]
     },
     "execution_count": 32,
     "metadata": {},
     "output_type": "execute_result"
    }
   ],
   "source": [
    "test_data.shape\n",
    "from spn.algorithms.MPE import mpe\n",
    "predicted=mpe(spn, data)\n",
    "predicted"
   ]
  },
  {
   "cell_type": "code",
   "execution_count": 33,
   "metadata": {},
   "outputs": [
    {
     "data": {
      "text/plain": [
       "(4, 3)"
      ]
     },
     "execution_count": 33,
     "metadata": {},
     "output_type": "execute_result"
    }
   ],
   "source": [
    "data_actual.shape\n",
    "data.shape"
   ]
  },
  {
   "cell_type": "code",
   "execution_count": 34,
   "metadata": {},
   "outputs": [
    {
     "data": {
      "text/plain": [
       "1.0"
      ]
     },
     "execution_count": 34,
     "metadata": {},
     "output_type": "execute_result"
    }
   ],
   "source": [
    "total=data_actual[:,-1]==predicted[:,-1]\n",
    "np.sum(total)/4"
   ]
  },
  {
   "cell_type": "code",
   "execution_count": null,
   "metadata": {},
   "outputs": [],
   "source": []
  }
 ],
 "metadata": {
  "kernelspec": {
   "display_name": "Python 3",
   "language": "python",
   "name": "python3"
  },
  "language_info": {
   "codemirror_mode": {
    "name": "ipython",
    "version": 3
   },
   "file_extension": ".py",
   "mimetype": "text/x-python",
   "name": "python",
   "nbconvert_exporter": "python",
   "pygments_lexer": "ipython3",
   "version": "3.5.4"
  }
 },
 "nbformat": 4,
 "nbformat_minor": 2
}
