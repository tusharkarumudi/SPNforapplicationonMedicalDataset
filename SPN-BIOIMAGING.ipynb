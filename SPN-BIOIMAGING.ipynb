{
 "cells": [
  {
   "cell_type": "code",
   "execution_count": 2,
   "metadata": {},
   "outputs": [],
   "source": [
    "import numpy as np\n",
    "import pandas as pd\n",
    "import spn\n",
    "import pandas.plotting"
   ]
  },
  {
   "cell_type": "code",
   "execution_count": 3,
   "metadata": {},
   "outputs": [
    {
     "name": "stdout",
     "output_type": "stream",
     "text": [
      "<module 'spn' from 'c:\\\\users\\\\tusha\\\\appdata\\\\local\\\\programs\\\\python\\\\python35-32\\\\lib\\\\site-packages\\\\spn\\\\__init__.py'>\n"
     ]
    }
   ],
   "source": [
    "print(spn)"
   ]
  },
  {
   "cell_type": "code",
   "execution_count": 4,
   "metadata": {},
   "outputs": [],
   "source": [
    "df=pd.read_csv(\"diabetes.csv\",delimiter=\",\")"
   ]
  },
  {
   "cell_type": "code",
   "execution_count": 5,
   "metadata": {},
   "outputs": [
    {
     "data": {
      "text/html": [
       "<div>\n",
       "<style scoped>\n",
       "    .dataframe tbody tr th:only-of-type {\n",
       "        vertical-align: middle;\n",
       "    }\n",
       "\n",
       "    .dataframe tbody tr th {\n",
       "        vertical-align: top;\n",
       "    }\n",
       "\n",
       "    .dataframe thead th {\n",
       "        text-align: right;\n",
       "    }\n",
       "</style>\n",
       "<table border=\"1\" class=\"dataframe\">\n",
       "  <thead>\n",
       "    <tr style=\"text-align: right;\">\n",
       "      <th></th>\n",
       "      <th>Pregnancies</th>\n",
       "      <th>Glucose</th>\n",
       "      <th>BloodPressure</th>\n",
       "      <th>SkinThickness</th>\n",
       "      <th>Insulin</th>\n",
       "      <th>BMI</th>\n",
       "      <th>DiabetesPedigreeFunction</th>\n",
       "      <th>Age</th>\n",
       "      <th>Outcome</th>\n",
       "    </tr>\n",
       "  </thead>\n",
       "  <tbody>\n",
       "    <tr>\n",
       "      <th>0</th>\n",
       "      <td>6</td>\n",
       "      <td>148</td>\n",
       "      <td>72</td>\n",
       "      <td>35</td>\n",
       "      <td>0</td>\n",
       "      <td>33.6</td>\n",
       "      <td>0.627</td>\n",
       "      <td>50</td>\n",
       "      <td>1</td>\n",
       "    </tr>\n",
       "    <tr>\n",
       "      <th>1</th>\n",
       "      <td>1</td>\n",
       "      <td>85</td>\n",
       "      <td>66</td>\n",
       "      <td>29</td>\n",
       "      <td>0</td>\n",
       "      <td>26.6</td>\n",
       "      <td>0.351</td>\n",
       "      <td>31</td>\n",
       "      <td>0</td>\n",
       "    </tr>\n",
       "    <tr>\n",
       "      <th>2</th>\n",
       "      <td>8</td>\n",
       "      <td>183</td>\n",
       "      <td>64</td>\n",
       "      <td>0</td>\n",
       "      <td>0</td>\n",
       "      <td>23.3</td>\n",
       "      <td>0.672</td>\n",
       "      <td>32</td>\n",
       "      <td>1</td>\n",
       "    </tr>\n",
       "    <tr>\n",
       "      <th>3</th>\n",
       "      <td>1</td>\n",
       "      <td>89</td>\n",
       "      <td>66</td>\n",
       "      <td>23</td>\n",
       "      <td>94</td>\n",
       "      <td>28.1</td>\n",
       "      <td>0.167</td>\n",
       "      <td>21</td>\n",
       "      <td>0</td>\n",
       "    </tr>\n",
       "    <tr>\n",
       "      <th>4</th>\n",
       "      <td>0</td>\n",
       "      <td>137</td>\n",
       "      <td>40</td>\n",
       "      <td>35</td>\n",
       "      <td>168</td>\n",
       "      <td>43.1</td>\n",
       "      <td>2.288</td>\n",
       "      <td>33</td>\n",
       "      <td>1</td>\n",
       "    </tr>\n",
       "    <tr>\n",
       "      <th>5</th>\n",
       "      <td>5</td>\n",
       "      <td>116</td>\n",
       "      <td>74</td>\n",
       "      <td>0</td>\n",
       "      <td>0</td>\n",
       "      <td>25.6</td>\n",
       "      <td>0.201</td>\n",
       "      <td>30</td>\n",
       "      <td>0</td>\n",
       "    </tr>\n",
       "    <tr>\n",
       "      <th>6</th>\n",
       "      <td>3</td>\n",
       "      <td>78</td>\n",
       "      <td>50</td>\n",
       "      <td>32</td>\n",
       "      <td>88</td>\n",
       "      <td>31.0</td>\n",
       "      <td>0.248</td>\n",
       "      <td>26</td>\n",
       "      <td>1</td>\n",
       "    </tr>\n",
       "    <tr>\n",
       "      <th>7</th>\n",
       "      <td>10</td>\n",
       "      <td>115</td>\n",
       "      <td>0</td>\n",
       "      <td>0</td>\n",
       "      <td>0</td>\n",
       "      <td>35.3</td>\n",
       "      <td>0.134</td>\n",
       "      <td>29</td>\n",
       "      <td>0</td>\n",
       "    </tr>\n",
       "    <tr>\n",
       "      <th>8</th>\n",
       "      <td>2</td>\n",
       "      <td>197</td>\n",
       "      <td>70</td>\n",
       "      <td>45</td>\n",
       "      <td>543</td>\n",
       "      <td>30.5</td>\n",
       "      <td>0.158</td>\n",
       "      <td>53</td>\n",
       "      <td>1</td>\n",
       "    </tr>\n",
       "    <tr>\n",
       "      <th>9</th>\n",
       "      <td>8</td>\n",
       "      <td>125</td>\n",
       "      <td>96</td>\n",
       "      <td>0</td>\n",
       "      <td>0</td>\n",
       "      <td>0.0</td>\n",
       "      <td>0.232</td>\n",
       "      <td>54</td>\n",
       "      <td>1</td>\n",
       "    </tr>\n",
       "    <tr>\n",
       "      <th>10</th>\n",
       "      <td>4</td>\n",
       "      <td>110</td>\n",
       "      <td>92</td>\n",
       "      <td>0</td>\n",
       "      <td>0</td>\n",
       "      <td>37.6</td>\n",
       "      <td>0.191</td>\n",
       "      <td>30</td>\n",
       "      <td>0</td>\n",
       "    </tr>\n",
       "    <tr>\n",
       "      <th>11</th>\n",
       "      <td>10</td>\n",
       "      <td>168</td>\n",
       "      <td>74</td>\n",
       "      <td>0</td>\n",
       "      <td>0</td>\n",
       "      <td>38.0</td>\n",
       "      <td>0.537</td>\n",
       "      <td>34</td>\n",
       "      <td>1</td>\n",
       "    </tr>\n",
       "    <tr>\n",
       "      <th>12</th>\n",
       "      <td>10</td>\n",
       "      <td>139</td>\n",
       "      <td>80</td>\n",
       "      <td>0</td>\n",
       "      <td>0</td>\n",
       "      <td>27.1</td>\n",
       "      <td>1.441</td>\n",
       "      <td>57</td>\n",
       "      <td>0</td>\n",
       "    </tr>\n",
       "    <tr>\n",
       "      <th>13</th>\n",
       "      <td>1</td>\n",
       "      <td>189</td>\n",
       "      <td>60</td>\n",
       "      <td>23</td>\n",
       "      <td>846</td>\n",
       "      <td>30.1</td>\n",
       "      <td>0.398</td>\n",
       "      <td>59</td>\n",
       "      <td>1</td>\n",
       "    </tr>\n",
       "    <tr>\n",
       "      <th>14</th>\n",
       "      <td>5</td>\n",
       "      <td>166</td>\n",
       "      <td>72</td>\n",
       "      <td>19</td>\n",
       "      <td>175</td>\n",
       "      <td>25.8</td>\n",
       "      <td>0.587</td>\n",
       "      <td>51</td>\n",
       "      <td>1</td>\n",
       "    </tr>\n",
       "    <tr>\n",
       "      <th>15</th>\n",
       "      <td>7</td>\n",
       "      <td>100</td>\n",
       "      <td>0</td>\n",
       "      <td>0</td>\n",
       "      <td>0</td>\n",
       "      <td>30.0</td>\n",
       "      <td>0.484</td>\n",
       "      <td>32</td>\n",
       "      <td>1</td>\n",
       "    </tr>\n",
       "    <tr>\n",
       "      <th>16</th>\n",
       "      <td>0</td>\n",
       "      <td>118</td>\n",
       "      <td>84</td>\n",
       "      <td>47</td>\n",
       "      <td>230</td>\n",
       "      <td>45.8</td>\n",
       "      <td>0.551</td>\n",
       "      <td>31</td>\n",
       "      <td>1</td>\n",
       "    </tr>\n",
       "    <tr>\n",
       "      <th>17</th>\n",
       "      <td>7</td>\n",
       "      <td>107</td>\n",
       "      <td>74</td>\n",
       "      <td>0</td>\n",
       "      <td>0</td>\n",
       "      <td>29.6</td>\n",
       "      <td>0.254</td>\n",
       "      <td>31</td>\n",
       "      <td>1</td>\n",
       "    </tr>\n",
       "    <tr>\n",
       "      <th>18</th>\n",
       "      <td>1</td>\n",
       "      <td>103</td>\n",
       "      <td>30</td>\n",
       "      <td>38</td>\n",
       "      <td>83</td>\n",
       "      <td>43.3</td>\n",
       "      <td>0.183</td>\n",
       "      <td>33</td>\n",
       "      <td>0</td>\n",
       "    </tr>\n",
       "    <tr>\n",
       "      <th>19</th>\n",
       "      <td>1</td>\n",
       "      <td>115</td>\n",
       "      <td>70</td>\n",
       "      <td>30</td>\n",
       "      <td>96</td>\n",
       "      <td>34.6</td>\n",
       "      <td>0.529</td>\n",
       "      <td>32</td>\n",
       "      <td>1</td>\n",
       "    </tr>\n",
       "    <tr>\n",
       "      <th>20</th>\n",
       "      <td>3</td>\n",
       "      <td>126</td>\n",
       "      <td>88</td>\n",
       "      <td>41</td>\n",
       "      <td>235</td>\n",
       "      <td>39.3</td>\n",
       "      <td>0.704</td>\n",
       "      <td>27</td>\n",
       "      <td>0</td>\n",
       "    </tr>\n",
       "    <tr>\n",
       "      <th>21</th>\n",
       "      <td>8</td>\n",
       "      <td>99</td>\n",
       "      <td>84</td>\n",
       "      <td>0</td>\n",
       "      <td>0</td>\n",
       "      <td>35.4</td>\n",
       "      <td>0.388</td>\n",
       "      <td>50</td>\n",
       "      <td>0</td>\n",
       "    </tr>\n",
       "    <tr>\n",
       "      <th>22</th>\n",
       "      <td>7</td>\n",
       "      <td>196</td>\n",
       "      <td>90</td>\n",
       "      <td>0</td>\n",
       "      <td>0</td>\n",
       "      <td>39.8</td>\n",
       "      <td>0.451</td>\n",
       "      <td>41</td>\n",
       "      <td>1</td>\n",
       "    </tr>\n",
       "    <tr>\n",
       "      <th>23</th>\n",
       "      <td>9</td>\n",
       "      <td>119</td>\n",
       "      <td>80</td>\n",
       "      <td>35</td>\n",
       "      <td>0</td>\n",
       "      <td>29.0</td>\n",
       "      <td>0.263</td>\n",
       "      <td>29</td>\n",
       "      <td>1</td>\n",
       "    </tr>\n",
       "    <tr>\n",
       "      <th>24</th>\n",
       "      <td>11</td>\n",
       "      <td>143</td>\n",
       "      <td>94</td>\n",
       "      <td>33</td>\n",
       "      <td>146</td>\n",
       "      <td>36.6</td>\n",
       "      <td>0.254</td>\n",
       "      <td>51</td>\n",
       "      <td>1</td>\n",
       "    </tr>\n",
       "    <tr>\n",
       "      <th>25</th>\n",
       "      <td>10</td>\n",
       "      <td>125</td>\n",
       "      <td>70</td>\n",
       "      <td>26</td>\n",
       "      <td>115</td>\n",
       "      <td>31.1</td>\n",
       "      <td>0.205</td>\n",
       "      <td>41</td>\n",
       "      <td>1</td>\n",
       "    </tr>\n",
       "    <tr>\n",
       "      <th>26</th>\n",
       "      <td>7</td>\n",
       "      <td>147</td>\n",
       "      <td>76</td>\n",
       "      <td>0</td>\n",
       "      <td>0</td>\n",
       "      <td>39.4</td>\n",
       "      <td>0.257</td>\n",
       "      <td>43</td>\n",
       "      <td>1</td>\n",
       "    </tr>\n",
       "    <tr>\n",
       "      <th>27</th>\n",
       "      <td>1</td>\n",
       "      <td>97</td>\n",
       "      <td>66</td>\n",
       "      <td>15</td>\n",
       "      <td>140</td>\n",
       "      <td>23.2</td>\n",
       "      <td>0.487</td>\n",
       "      <td>22</td>\n",
       "      <td>0</td>\n",
       "    </tr>\n",
       "    <tr>\n",
       "      <th>28</th>\n",
       "      <td>13</td>\n",
       "      <td>145</td>\n",
       "      <td>82</td>\n",
       "      <td>19</td>\n",
       "      <td>110</td>\n",
       "      <td>22.2</td>\n",
       "      <td>0.245</td>\n",
       "      <td>57</td>\n",
       "      <td>0</td>\n",
       "    </tr>\n",
       "    <tr>\n",
       "      <th>29</th>\n",
       "      <td>5</td>\n",
       "      <td>117</td>\n",
       "      <td>92</td>\n",
       "      <td>0</td>\n",
       "      <td>0</td>\n",
       "      <td>34.1</td>\n",
       "      <td>0.337</td>\n",
       "      <td>38</td>\n",
       "      <td>0</td>\n",
       "    </tr>\n",
       "    <tr>\n",
       "      <th>...</th>\n",
       "      <td>...</td>\n",
       "      <td>...</td>\n",
       "      <td>...</td>\n",
       "      <td>...</td>\n",
       "      <td>...</td>\n",
       "      <td>...</td>\n",
       "      <td>...</td>\n",
       "      <td>...</td>\n",
       "      <td>...</td>\n",
       "    </tr>\n",
       "    <tr>\n",
       "      <th>70</th>\n",
       "      <td>2</td>\n",
       "      <td>100</td>\n",
       "      <td>66</td>\n",
       "      <td>20</td>\n",
       "      <td>90</td>\n",
       "      <td>32.9</td>\n",
       "      <td>0.867</td>\n",
       "      <td>28</td>\n",
       "      <td>1</td>\n",
       "    </tr>\n",
       "    <tr>\n",
       "      <th>71</th>\n",
       "      <td>5</td>\n",
       "      <td>139</td>\n",
       "      <td>64</td>\n",
       "      <td>35</td>\n",
       "      <td>140</td>\n",
       "      <td>28.6</td>\n",
       "      <td>0.411</td>\n",
       "      <td>26</td>\n",
       "      <td>0</td>\n",
       "    </tr>\n",
       "    <tr>\n",
       "      <th>72</th>\n",
       "      <td>13</td>\n",
       "      <td>126</td>\n",
       "      <td>90</td>\n",
       "      <td>0</td>\n",
       "      <td>0</td>\n",
       "      <td>43.4</td>\n",
       "      <td>0.583</td>\n",
       "      <td>42</td>\n",
       "      <td>1</td>\n",
       "    </tr>\n",
       "    <tr>\n",
       "      <th>73</th>\n",
       "      <td>4</td>\n",
       "      <td>129</td>\n",
       "      <td>86</td>\n",
       "      <td>20</td>\n",
       "      <td>270</td>\n",
       "      <td>35.1</td>\n",
       "      <td>0.231</td>\n",
       "      <td>23</td>\n",
       "      <td>0</td>\n",
       "    </tr>\n",
       "    <tr>\n",
       "      <th>74</th>\n",
       "      <td>1</td>\n",
       "      <td>79</td>\n",
       "      <td>75</td>\n",
       "      <td>30</td>\n",
       "      <td>0</td>\n",
       "      <td>32.0</td>\n",
       "      <td>0.396</td>\n",
       "      <td>22</td>\n",
       "      <td>0</td>\n",
       "    </tr>\n",
       "    <tr>\n",
       "      <th>75</th>\n",
       "      <td>1</td>\n",
       "      <td>0</td>\n",
       "      <td>48</td>\n",
       "      <td>20</td>\n",
       "      <td>0</td>\n",
       "      <td>24.7</td>\n",
       "      <td>0.140</td>\n",
       "      <td>22</td>\n",
       "      <td>0</td>\n",
       "    </tr>\n",
       "    <tr>\n",
       "      <th>76</th>\n",
       "      <td>7</td>\n",
       "      <td>62</td>\n",
       "      <td>78</td>\n",
       "      <td>0</td>\n",
       "      <td>0</td>\n",
       "      <td>32.6</td>\n",
       "      <td>0.391</td>\n",
       "      <td>41</td>\n",
       "      <td>0</td>\n",
       "    </tr>\n",
       "    <tr>\n",
       "      <th>77</th>\n",
       "      <td>5</td>\n",
       "      <td>95</td>\n",
       "      <td>72</td>\n",
       "      <td>33</td>\n",
       "      <td>0</td>\n",
       "      <td>37.7</td>\n",
       "      <td>0.370</td>\n",
       "      <td>27</td>\n",
       "      <td>0</td>\n",
       "    </tr>\n",
       "    <tr>\n",
       "      <th>78</th>\n",
       "      <td>0</td>\n",
       "      <td>131</td>\n",
       "      <td>0</td>\n",
       "      <td>0</td>\n",
       "      <td>0</td>\n",
       "      <td>43.2</td>\n",
       "      <td>0.270</td>\n",
       "      <td>26</td>\n",
       "      <td>1</td>\n",
       "    </tr>\n",
       "    <tr>\n",
       "      <th>79</th>\n",
       "      <td>2</td>\n",
       "      <td>112</td>\n",
       "      <td>66</td>\n",
       "      <td>22</td>\n",
       "      <td>0</td>\n",
       "      <td>25.0</td>\n",
       "      <td>0.307</td>\n",
       "      <td>24</td>\n",
       "      <td>0</td>\n",
       "    </tr>\n",
       "    <tr>\n",
       "      <th>80</th>\n",
       "      <td>3</td>\n",
       "      <td>113</td>\n",
       "      <td>44</td>\n",
       "      <td>13</td>\n",
       "      <td>0</td>\n",
       "      <td>22.4</td>\n",
       "      <td>0.140</td>\n",
       "      <td>22</td>\n",
       "      <td>0</td>\n",
       "    </tr>\n",
       "    <tr>\n",
       "      <th>81</th>\n",
       "      <td>2</td>\n",
       "      <td>74</td>\n",
       "      <td>0</td>\n",
       "      <td>0</td>\n",
       "      <td>0</td>\n",
       "      <td>0.0</td>\n",
       "      <td>0.102</td>\n",
       "      <td>22</td>\n",
       "      <td>0</td>\n",
       "    </tr>\n",
       "    <tr>\n",
       "      <th>82</th>\n",
       "      <td>7</td>\n",
       "      <td>83</td>\n",
       "      <td>78</td>\n",
       "      <td>26</td>\n",
       "      <td>71</td>\n",
       "      <td>29.3</td>\n",
       "      <td>0.767</td>\n",
       "      <td>36</td>\n",
       "      <td>0</td>\n",
       "    </tr>\n",
       "    <tr>\n",
       "      <th>83</th>\n",
       "      <td>0</td>\n",
       "      <td>101</td>\n",
       "      <td>65</td>\n",
       "      <td>28</td>\n",
       "      <td>0</td>\n",
       "      <td>24.6</td>\n",
       "      <td>0.237</td>\n",
       "      <td>22</td>\n",
       "      <td>0</td>\n",
       "    </tr>\n",
       "    <tr>\n",
       "      <th>84</th>\n",
       "      <td>5</td>\n",
       "      <td>137</td>\n",
       "      <td>108</td>\n",
       "      <td>0</td>\n",
       "      <td>0</td>\n",
       "      <td>48.8</td>\n",
       "      <td>0.227</td>\n",
       "      <td>37</td>\n",
       "      <td>1</td>\n",
       "    </tr>\n",
       "    <tr>\n",
       "      <th>85</th>\n",
       "      <td>2</td>\n",
       "      <td>110</td>\n",
       "      <td>74</td>\n",
       "      <td>29</td>\n",
       "      <td>125</td>\n",
       "      <td>32.4</td>\n",
       "      <td>0.698</td>\n",
       "      <td>27</td>\n",
       "      <td>0</td>\n",
       "    </tr>\n",
       "    <tr>\n",
       "      <th>86</th>\n",
       "      <td>13</td>\n",
       "      <td>106</td>\n",
       "      <td>72</td>\n",
       "      <td>54</td>\n",
       "      <td>0</td>\n",
       "      <td>36.6</td>\n",
       "      <td>0.178</td>\n",
       "      <td>45</td>\n",
       "      <td>0</td>\n",
       "    </tr>\n",
       "    <tr>\n",
       "      <th>87</th>\n",
       "      <td>2</td>\n",
       "      <td>100</td>\n",
       "      <td>68</td>\n",
       "      <td>25</td>\n",
       "      <td>71</td>\n",
       "      <td>38.5</td>\n",
       "      <td>0.324</td>\n",
       "      <td>26</td>\n",
       "      <td>0</td>\n",
       "    </tr>\n",
       "    <tr>\n",
       "      <th>88</th>\n",
       "      <td>15</td>\n",
       "      <td>136</td>\n",
       "      <td>70</td>\n",
       "      <td>32</td>\n",
       "      <td>110</td>\n",
       "      <td>37.1</td>\n",
       "      <td>0.153</td>\n",
       "      <td>43</td>\n",
       "      <td>1</td>\n",
       "    </tr>\n",
       "    <tr>\n",
       "      <th>89</th>\n",
       "      <td>1</td>\n",
       "      <td>107</td>\n",
       "      <td>68</td>\n",
       "      <td>19</td>\n",
       "      <td>0</td>\n",
       "      <td>26.5</td>\n",
       "      <td>0.165</td>\n",
       "      <td>24</td>\n",
       "      <td>0</td>\n",
       "    </tr>\n",
       "    <tr>\n",
       "      <th>90</th>\n",
       "      <td>1</td>\n",
       "      <td>80</td>\n",
       "      <td>55</td>\n",
       "      <td>0</td>\n",
       "      <td>0</td>\n",
       "      <td>19.1</td>\n",
       "      <td>0.258</td>\n",
       "      <td>21</td>\n",
       "      <td>0</td>\n",
       "    </tr>\n",
       "    <tr>\n",
       "      <th>91</th>\n",
       "      <td>4</td>\n",
       "      <td>123</td>\n",
       "      <td>80</td>\n",
       "      <td>15</td>\n",
       "      <td>176</td>\n",
       "      <td>32.0</td>\n",
       "      <td>0.443</td>\n",
       "      <td>34</td>\n",
       "      <td>0</td>\n",
       "    </tr>\n",
       "    <tr>\n",
       "      <th>92</th>\n",
       "      <td>7</td>\n",
       "      <td>81</td>\n",
       "      <td>78</td>\n",
       "      <td>40</td>\n",
       "      <td>48</td>\n",
       "      <td>46.7</td>\n",
       "      <td>0.261</td>\n",
       "      <td>42</td>\n",
       "      <td>0</td>\n",
       "    </tr>\n",
       "    <tr>\n",
       "      <th>93</th>\n",
       "      <td>4</td>\n",
       "      <td>134</td>\n",
       "      <td>72</td>\n",
       "      <td>0</td>\n",
       "      <td>0</td>\n",
       "      <td>23.8</td>\n",
       "      <td>0.277</td>\n",
       "      <td>60</td>\n",
       "      <td>1</td>\n",
       "    </tr>\n",
       "    <tr>\n",
       "      <th>94</th>\n",
       "      <td>2</td>\n",
       "      <td>142</td>\n",
       "      <td>82</td>\n",
       "      <td>18</td>\n",
       "      <td>64</td>\n",
       "      <td>24.7</td>\n",
       "      <td>0.761</td>\n",
       "      <td>21</td>\n",
       "      <td>0</td>\n",
       "    </tr>\n",
       "    <tr>\n",
       "      <th>95</th>\n",
       "      <td>6</td>\n",
       "      <td>144</td>\n",
       "      <td>72</td>\n",
       "      <td>27</td>\n",
       "      <td>228</td>\n",
       "      <td>33.9</td>\n",
       "      <td>0.255</td>\n",
       "      <td>40</td>\n",
       "      <td>0</td>\n",
       "    </tr>\n",
       "    <tr>\n",
       "      <th>96</th>\n",
       "      <td>2</td>\n",
       "      <td>92</td>\n",
       "      <td>62</td>\n",
       "      <td>28</td>\n",
       "      <td>0</td>\n",
       "      <td>31.6</td>\n",
       "      <td>0.130</td>\n",
       "      <td>24</td>\n",
       "      <td>0</td>\n",
       "    </tr>\n",
       "    <tr>\n",
       "      <th>97</th>\n",
       "      <td>1</td>\n",
       "      <td>71</td>\n",
       "      <td>48</td>\n",
       "      <td>18</td>\n",
       "      <td>76</td>\n",
       "      <td>20.4</td>\n",
       "      <td>0.323</td>\n",
       "      <td>22</td>\n",
       "      <td>0</td>\n",
       "    </tr>\n",
       "    <tr>\n",
       "      <th>98</th>\n",
       "      <td>6</td>\n",
       "      <td>93</td>\n",
       "      <td>50</td>\n",
       "      <td>30</td>\n",
       "      <td>64</td>\n",
       "      <td>28.7</td>\n",
       "      <td>0.356</td>\n",
       "      <td>23</td>\n",
       "      <td>0</td>\n",
       "    </tr>\n",
       "    <tr>\n",
       "      <th>99</th>\n",
       "      <td>1</td>\n",
       "      <td>122</td>\n",
       "      <td>90</td>\n",
       "      <td>51</td>\n",
       "      <td>220</td>\n",
       "      <td>49.7</td>\n",
       "      <td>0.325</td>\n",
       "      <td>31</td>\n",
       "      <td>1</td>\n",
       "    </tr>\n",
       "  </tbody>\n",
       "</table>\n",
       "<p>100 rows × 9 columns</p>\n",
       "</div>"
      ],
      "text/plain": [
       "    Pregnancies  Glucose  BloodPressure  SkinThickness  Insulin   BMI  \\\n",
       "0             6      148             72             35        0  33.6   \n",
       "1             1       85             66             29        0  26.6   \n",
       "2             8      183             64              0        0  23.3   \n",
       "3             1       89             66             23       94  28.1   \n",
       "4             0      137             40             35      168  43.1   \n",
       "5             5      116             74              0        0  25.6   \n",
       "6             3       78             50             32       88  31.0   \n",
       "7            10      115              0              0        0  35.3   \n",
       "8             2      197             70             45      543  30.5   \n",
       "9             8      125             96              0        0   0.0   \n",
       "10            4      110             92              0        0  37.6   \n",
       "11           10      168             74              0        0  38.0   \n",
       "12           10      139             80              0        0  27.1   \n",
       "13            1      189             60             23      846  30.1   \n",
       "14            5      166             72             19      175  25.8   \n",
       "15            7      100              0              0        0  30.0   \n",
       "16            0      118             84             47      230  45.8   \n",
       "17            7      107             74              0        0  29.6   \n",
       "18            1      103             30             38       83  43.3   \n",
       "19            1      115             70             30       96  34.6   \n",
       "20            3      126             88             41      235  39.3   \n",
       "21            8       99             84              0        0  35.4   \n",
       "22            7      196             90              0        0  39.8   \n",
       "23            9      119             80             35        0  29.0   \n",
       "24           11      143             94             33      146  36.6   \n",
       "25           10      125             70             26      115  31.1   \n",
       "26            7      147             76              0        0  39.4   \n",
       "27            1       97             66             15      140  23.2   \n",
       "28           13      145             82             19      110  22.2   \n",
       "29            5      117             92              0        0  34.1   \n",
       "..          ...      ...            ...            ...      ...   ...   \n",
       "70            2      100             66             20       90  32.9   \n",
       "71            5      139             64             35      140  28.6   \n",
       "72           13      126             90              0        0  43.4   \n",
       "73            4      129             86             20      270  35.1   \n",
       "74            1       79             75             30        0  32.0   \n",
       "75            1        0             48             20        0  24.7   \n",
       "76            7       62             78              0        0  32.6   \n",
       "77            5       95             72             33        0  37.7   \n",
       "78            0      131              0              0        0  43.2   \n",
       "79            2      112             66             22        0  25.0   \n",
       "80            3      113             44             13        0  22.4   \n",
       "81            2       74              0              0        0   0.0   \n",
       "82            7       83             78             26       71  29.3   \n",
       "83            0      101             65             28        0  24.6   \n",
       "84            5      137            108              0        0  48.8   \n",
       "85            2      110             74             29      125  32.4   \n",
       "86           13      106             72             54        0  36.6   \n",
       "87            2      100             68             25       71  38.5   \n",
       "88           15      136             70             32      110  37.1   \n",
       "89            1      107             68             19        0  26.5   \n",
       "90            1       80             55              0        0  19.1   \n",
       "91            4      123             80             15      176  32.0   \n",
       "92            7       81             78             40       48  46.7   \n",
       "93            4      134             72              0        0  23.8   \n",
       "94            2      142             82             18       64  24.7   \n",
       "95            6      144             72             27      228  33.9   \n",
       "96            2       92             62             28        0  31.6   \n",
       "97            1       71             48             18       76  20.4   \n",
       "98            6       93             50             30       64  28.7   \n",
       "99            1      122             90             51      220  49.7   \n",
       "\n",
       "    DiabetesPedigreeFunction  Age  Outcome  \n",
       "0                      0.627   50        1  \n",
       "1                      0.351   31        0  \n",
       "2                      0.672   32        1  \n",
       "3                      0.167   21        0  \n",
       "4                      2.288   33        1  \n",
       "5                      0.201   30        0  \n",
       "6                      0.248   26        1  \n",
       "7                      0.134   29        0  \n",
       "8                      0.158   53        1  \n",
       "9                      0.232   54        1  \n",
       "10                     0.191   30        0  \n",
       "11                     0.537   34        1  \n",
       "12                     1.441   57        0  \n",
       "13                     0.398   59        1  \n",
       "14                     0.587   51        1  \n",
       "15                     0.484   32        1  \n",
       "16                     0.551   31        1  \n",
       "17                     0.254   31        1  \n",
       "18                     0.183   33        0  \n",
       "19                     0.529   32        1  \n",
       "20                     0.704   27        0  \n",
       "21                     0.388   50        0  \n",
       "22                     0.451   41        1  \n",
       "23                     0.263   29        1  \n",
       "24                     0.254   51        1  \n",
       "25                     0.205   41        1  \n",
       "26                     0.257   43        1  \n",
       "27                     0.487   22        0  \n",
       "28                     0.245   57        0  \n",
       "29                     0.337   38        0  \n",
       "..                       ...  ...      ...  \n",
       "70                     0.867   28        1  \n",
       "71                     0.411   26        0  \n",
       "72                     0.583   42        1  \n",
       "73                     0.231   23        0  \n",
       "74                     0.396   22        0  \n",
       "75                     0.140   22        0  \n",
       "76                     0.391   41        0  \n",
       "77                     0.370   27        0  \n",
       "78                     0.270   26        1  \n",
       "79                     0.307   24        0  \n",
       "80                     0.140   22        0  \n",
       "81                     0.102   22        0  \n",
       "82                     0.767   36        0  \n",
       "83                     0.237   22        0  \n",
       "84                     0.227   37        1  \n",
       "85                     0.698   27        0  \n",
       "86                     0.178   45        0  \n",
       "87                     0.324   26        0  \n",
       "88                     0.153   43        1  \n",
       "89                     0.165   24        0  \n",
       "90                     0.258   21        0  \n",
       "91                     0.443   34        0  \n",
       "92                     0.261   42        0  \n",
       "93                     0.277   60        1  \n",
       "94                     0.761   21        0  \n",
       "95                     0.255   40        0  \n",
       "96                     0.130   24        0  \n",
       "97                     0.323   22        0  \n",
       "98                     0.356   23        0  \n",
       "99                     0.325   31        1  \n",
       "\n",
       "[100 rows x 9 columns]"
      ]
     },
     "execution_count": 5,
     "metadata": {},
     "output_type": "execute_result"
    }
   ],
   "source": [
    "df.head(100)"
   ]
  },
  {
   "cell_type": "code",
   "execution_count": 6,
   "metadata": {},
   "outputs": [
    {
     "data": {
      "text/plain": [
       "Pregnancies                 500\n",
       "Glucose                     500\n",
       "BloodPressure               500\n",
       "SkinThickness               500\n",
       "Insulin                     500\n",
       "BMI                         500\n",
       "DiabetesPedigreeFunction    500\n",
       "Age                         500\n",
       "Outcome                     500\n",
       "dtype: int64"
      ]
     },
     "execution_count": 6,
     "metadata": {},
     "output_type": "execute_result"
    }
   ],
   "source": [
    "df[df.Outcome==0].count()"
   ]
  },
  {
   "cell_type": "code",
   "execution_count": 7,
   "metadata": {},
   "outputs": [
    {
     "data": {
      "text/plain": [
       "Pregnancies                 268\n",
       "Glucose                     268\n",
       "BloodPressure               268\n",
       "SkinThickness               268\n",
       "Insulin                     268\n",
       "BMI                         268\n",
       "DiabetesPedigreeFunction    268\n",
       "Age                         268\n",
       "Outcome                     268\n",
       "dtype: int64"
      ]
     },
     "execution_count": 7,
     "metadata": {},
     "output_type": "execute_result"
    }
   ],
   "source": [
    "df[df.Outcome==1].count()"
   ]
  },
  {
   "cell_type": "code",
   "execution_count": 8,
   "metadata": {},
   "outputs": [],
   "source": [
    "outcome_bmi=df[[\"BMI\",\"Outcome\"]]"
   ]
  },
  {
   "cell_type": "code",
   "execution_count": 9,
   "metadata": {},
   "outputs": [
    {
     "data": {
      "text/plain": [
       "<matplotlib.axes._subplots.AxesSubplot at 0x13264e10>"
      ]
     },
     "execution_count": 9,
     "metadata": {},
     "output_type": "execute_result"
    }
   ],
   "source": [
    "df[\"Age\"].hist(bins=10)"
   ]
  },
  {
   "cell_type": "markdown",
   "metadata": {},
   "source": [
    "# AGE VS OUTCOME"
   ]
  },
  {
   "cell_type": "code",
   "execution_count": 10,
   "metadata": {},
   "outputs": [
    {
     "data": {
      "text/plain": [
       "Outcome    144\n",
       "Age        144\n",
       "dtype: int64"
      ]
     },
     "execution_count": 10,
     "metadata": {},
     "output_type": "execute_result"
    }
   ],
   "source": [
    "df.query(\"Age >30 and Age<40 \")[[\"Outcome\",\"Age\"]].count()"
   ]
  },
  {
   "cell_type": "code",
   "execution_count": 11,
   "metadata": {},
   "outputs": [
    {
     "data": {
      "text/plain": [
       "Outcome    74\n",
       "Age        74\n",
       "dtype: int64"
      ]
     },
     "execution_count": 11,
     "metadata": {},
     "output_type": "execute_result"
    }
   ],
   "source": [
    "df.query(\"Age >30 and Age<40 and Outcome==0\")[[\"Outcome\",\"Age\"]].count()"
   ]
  },
  {
   "cell_type": "markdown",
   "metadata": {},
   "source": [
    "# BMI VS OUTCOME"
   ]
  },
  {
   "cell_type": "code",
   "execution_count": 12,
   "metadata": {},
   "outputs": [
    {
     "data": {
      "text/plain": [
       "BMI    160\n",
       "dtype: int64"
      ]
     },
     "execution_count": 12,
     "metadata": {},
     "output_type": "execute_result"
    }
   ],
   "source": [
    "df.query(\"BMI >30 and BMI<40 and Outcome==1 \")[[\"BMI\"]].count() "
   ]
  },
  {
   "cell_type": "code",
   "execution_count": 13,
   "metadata": {},
   "outputs": [
    {
     "data": {
      "text/plain": [
       "BMI    207\n",
       "dtype: int64"
      ]
     },
     "execution_count": 13,
     "metadata": {},
     "output_type": "execute_result"
    }
   ],
   "source": [
    "df.query(\"BMI >30 and BMI<40 and Outcome==0\")[[\"BMI\"]].count() "
   ]
  },
  {
   "cell_type": "code",
   "execution_count": 14,
   "metadata": {},
   "outputs": [
    {
     "data": {
      "text/plain": [
       "BMI    7\n",
       "dtype: int64"
      ]
     },
     "execution_count": 14,
     "metadata": {},
     "output_type": "execute_result"
    }
   ],
   "source": [
    "df.query(\"BMI >18.5 and BMI<24.9 and Outcome==1\")[[\"BMI\"]].count() "
   ]
  },
  {
   "cell_type": "code",
   "execution_count": 15,
   "metadata": {},
   "outputs": [
    {
     "data": {
      "text/plain": [
       "BMI    94\n",
       "dtype: int64"
      ]
     },
     "execution_count": 15,
     "metadata": {},
     "output_type": "execute_result"
    }
   ],
   "source": [
    "df.query(\"BMI >18.5 and BMI<24.9 and Outcome==0\")[[\"BMI\"]].count() "
   ]
  },
  {
   "cell_type": "code",
   "execution_count": 16,
   "metadata": {},
   "outputs": [
    {
     "name": "stderr",
     "output_type": "stream",
     "text": [
      "c:\\users\\tusha\\appdata\\local\\programs\\python\\python35-32\\lib\\site-packages\\ipykernel_launcher.py:1: FutureWarning: Method .as_matrix will be removed in a future version. Use .values instead.\n",
      "  \"\"\"Entry point for launching an IPython kernel.\n"
     ]
    }
   ],
   "source": [
    "dataset=df.as_matrix()\n",
    "train_data=dataset[:600,:]\n",
    "test_data=dataset[600:,:]"
   ]
  },
  {
   "cell_type": "code",
   "execution_count": null,
   "metadata": {},
   "outputs": [],
   "source": [
    "from spn.structure.Base import Context\n",
    "from spn.structure.leaves.parametric.Parametric import Categorical, Gaussian\n",
    "\n",
    "ds_context = Context(parametric_types=[Categorical, Gaussian, Gaussian, Gaussian,Gaussian,Gaussian,Gaussian,Gaussian,Categorical]).add_domains(train_data)\n",
    "\n",
    "from spn.algorithms.LearningWrappers import learn_parametric\n",
    "\n",
    "spn = learn_parametric(train_data, ds_context, min_instances_slice=1,threshold=0.30,ohe=True)"
   ]
  },
  {
   "cell_type": "code",
   "execution_count": null,
   "metadata": {},
   "outputs": [],
   "source": [
    "print(spn)"
   ]
  },
  {
   "cell_type": "code",
   "execution_count": 19,
   "metadata": {},
   "outputs": [],
   "source": [
    "from spn.algorithms.Validity import is_valid"
   ]
  },
  {
   "cell_type": "code",
   "execution_count": 20,
   "metadata": {},
   "outputs": [
    {
     "name": "stdout",
     "output_type": "stream",
     "text": [
      "(True, None)\n"
     ]
    }
   ],
   "source": [
    "print(is_valid(spn))"
   ]
  },
  {
   "cell_type": "code",
   "execution_count": 21,
   "metadata": {},
   "outputs": [],
   "source": [
    "from spn.io.Graphics import plot_spn\n"
   ]
  },
  {
   "cell_type": "code",
   "execution_count": null,
   "metadata": {},
   "outputs": [
    {
     "name": "stdout",
     "output_type": "stream",
     "text": [
      "[SumNode_0, ProductNode_1, ProductNode_2, ProductNode_3, ProductNode_4, ProductNode_5, ProductNode_6, ProductNode_7, ProductNode_8, ProductNode_9, ProductNode_10, ProductNode_11, ProductNode_12, ProductNode_13, ProductNode_14, ProductNode_15, ProductNode_16, ProductNode_17, ProductNode_18, ProductNode_19, ProductNode_20, ProductNode_21, ProductNode_22, ProductNode_23, ProductNode_24, ProductNode_25, ProductNode_26, ProductNode_27, ProductNode_28, ProductNode_29, ProductNode_30, ProductNode_31, ProductNode_32, ProductNode_33, ProductNode_34, ProductNode_35, ProductNode_36, ProductNode_37, ProductNode_38, ProductNode_39, ProductNode_40, ProductNode_41, ProductNode_42, ProductNode_43, ProductNode_44, ProductNode_45, ProductNode_46, ProductNode_47, ProductNode_48, ProductNode_49, ProductNode_50, ProductNode_51, ProductNode_52, ProductNode_53, ProductNode_54, ProductNode_55, ProductNode_56, ProductNode_57, ProductNode_58, ProductNode_59, ProductNode_60, ProductNode_61, ProductNode_62, ProductNode_63, ProductNode_64, ProductNode_65, ProductNode_66, ProductNode_67, ProductNode_68, ProductNode_69, ProductNode_70, ProductNode_71, ProductNode_72, ProductNode_73, SumNode_74, GaussianNode_75, GaussianNode_76, GaussianNode_77, CategoricalNode_78, SumNode_79, GaussianNode_80, CategoricalNode_81, SumNode_82, CategoricalNode_83, GaussianNode_84, GaussianNode_85, GaussianNode_86, GaussianNode_87, GaussianNode_88, GaussianNode_89, GaussianNode_90, CategoricalNode_91, CategoricalNode_92, GaussianNode_93, GaussianNode_94, GaussianNode_95, GaussianNode_96, GaussianNode_97, GaussianNode_98, GaussianNode_99, CategoricalNode_100, CategoricalNode_101, SumNode_102, CategoricalNode_103, SumNode_104, CategoricalNode_105, SumNode_106, CategoricalNode_107, CategoricalNode_108, SumNode_109, CategoricalNode_110, GaussianNode_111, GaussianNode_112, GaussianNode_113, GaussianNode_114, GaussianNode_115, GaussianNode_116, GaussianNode_117, CategoricalNode_118, CategoricalNode_119, GaussianNode_120, GaussianNode_121, GaussianNode_122, GaussianNode_123, GaussianNode_124, GaussianNode_125, GaussianNode_126, CategoricalNode_127, CategoricalNode_128, GaussianNode_129, GaussianNode_130, GaussianNode_131, GaussianNode_132, GaussianNode_133, GaussianNode_134, GaussianNode_135, CategoricalNode_136, CategoricalNode_137, GaussianNode_138, GaussianNode_139, GaussianNode_140, GaussianNode_141, GaussianNode_142, GaussianNode_143, GaussianNode_144, CategoricalNode_145, CategoricalNode_146, GaussianNode_147, GaussianNode_148, GaussianNode_149, GaussianNode_150, GaussianNode_151, GaussianNode_152, GaussianNode_153, CategoricalNode_154, CategoricalNode_155, SumNode_156, CategoricalNode_157, GaussianNode_158, GaussianNode_159, GaussianNode_160, GaussianNode_161, GaussianNode_162, GaussianNode_163, GaussianNode_164, CategoricalNode_165, CategoricalNode_166, SumNode_167, CategoricalNode_168, GaussianNode_169, GaussianNode_170, GaussianNode_171, GaussianNode_172, GaussianNode_173, GaussianNode_174, GaussianNode_175, CategoricalNode_176, CategoricalNode_177, GaussianNode_178, GaussianNode_179, GaussianNode_180, GaussianNode_181, GaussianNode_182, GaussianNode_183, GaussianNode_184, CategoricalNode_185, GaussianNode_186, CategoricalNode_187, SumNode_188, CategoricalNode_189, GaussianNode_190, GaussianNode_191, GaussianNode_192, GaussianNode_193, GaussianNode_194, GaussianNode_195, GaussianNode_196, CategoricalNode_197, CategoricalNode_198, GaussianNode_199, GaussianNode_200, GaussianNode_201, GaussianNode_202, GaussianNode_203, GaussianNode_204, GaussianNode_205, CategoricalNode_206, GaussianNode_207, CategoricalNode_208, SumNode_209, CategoricalNode_210, GaussianNode_211, GaussianNode_212, GaussianNode_213, GaussianNode_214, GaussianNode_215, GaussianNode_216, GaussianNode_217, CategoricalNode_218, CategoricalNode_219, GaussianNode_220, GaussianNode_221, GaussianNode_222, GaussianNode_223, GaussianNode_224, GaussianNode_225, GaussianNode_226, CategoricalNode_227, CategoricalNode_228, GaussianNode_229, GaussianNode_230, GaussianNode_231, GaussianNode_232, GaussianNode_233, GaussianNode_234, GaussianNode_235, CategoricalNode_236, CategoricalNode_237, GaussianNode_238, GaussianNode_239, GaussianNode_240, GaussianNode_241, GaussianNode_242, GaussianNode_243, GaussianNode_244, CategoricalNode_245, CategoricalNode_246, SumNode_247, CategoricalNode_248, GaussianNode_249, GaussianNode_250, GaussianNode_251, GaussianNode_252, GaussianNode_253, GaussianNode_254, GaussianNode_255, CategoricalNode_256, CategoricalNode_257, SumNode_258, CategoricalNode_259, GaussianNode_260, GaussianNode_261, GaussianNode_262, GaussianNode_263, GaussianNode_264, GaussianNode_265, GaussianNode_266, CategoricalNode_267, CategoricalNode_268, GaussianNode_269, GaussianNode_270, GaussianNode_271, GaussianNode_272, GaussianNode_273, GaussianNode_274, GaussianNode_275, CategoricalNode_276, CategoricalNode_277, GaussianNode_278, GaussianNode_279, GaussianNode_280, GaussianNode_281, GaussianNode_282, GaussianNode_283, GaussianNode_284, CategoricalNode_285, GaussianNode_286, SumNode_287, CategoricalNode_288, GaussianNode_289, GaussianNode_290, GaussianNode_291, GaussianNode_292, GaussianNode_293, GaussianNode_294, GaussianNode_295, CategoricalNode_296, CategoricalNode_297, SumNode_298, CategoricalNode_299, GaussianNode_300, GaussianNode_301, GaussianNode_302, GaussianNode_303, GaussianNode_304, GaussianNode_305, GaussianNode_306, CategoricalNode_307, CategoricalNode_308, SumNode_309, CategoricalNode_310, SumNode_311, CategoricalNode_312, SumNode_313, CategoricalNode_314, GaussianNode_315, GaussianNode_316, GaussianNode_317, GaussianNode_318, GaussianNode_319, GaussianNode_320, GaussianNode_321, CategoricalNode_322, GaussianNode_323, SumNode_324, GaussianNode_325, CategoricalNode_326, SumNode_327, GaussianNode_328, SumNode_329, CategoricalNode_330, GaussianNode_331, GaussianNode_332, GaussianNode_333, GaussianNode_334, GaussianNode_335, GaussianNode_336, GaussianNode_337, CategoricalNode_338, CategoricalNode_339, GaussianNode_340, GaussianNode_341, GaussianNode_342, GaussianNode_343, GaussianNode_344, GaussianNode_345, GaussianNode_346, CategoricalNode_347, CategoricalNode_348, CategoricalNode_349, SumNode_350, CategoricalNode_351, GaussianNode_352, GaussianNode_353, GaussianNode_354, GaussianNode_355, GaussianNode_356, GaussianNode_357, GaussianNode_358, CategoricalNode_359, CategoricalNode_360, SumNode_361, CategoricalNode_362, SumNode_363, GaussianNode_364, SumNode_365, CategoricalNode_366, GaussianNode_367, GaussianNode_368, GaussianNode_369, GaussianNode_370, GaussianNode_371, GaussianNode_372, GaussianNode_373, CategoricalNode_374, CategoricalNode_375, GaussianNode_376, GaussianNode_377, GaussianNode_378, GaussianNode_379, GaussianNode_380, GaussianNode_381, GaussianNode_382, CategoricalNode_383, CategoricalNode_384, GaussianNode_385, GaussianNode_386, GaussianNode_387, GaussianNode_388, GaussianNode_389, GaussianNode_390, GaussianNode_391, CategoricalNode_392, CategoricalNode_393, GaussianNode_394, GaussianNode_395, GaussianNode_396, GaussianNode_397, GaussianNode_398, GaussianNode_399, GaussianNode_400, CategoricalNode_401, CategoricalNode_402, GaussianNode_403, GaussianNode_404, GaussianNode_405, GaussianNode_406, GaussianNode_407, GaussianNode_408, GaussianNode_409, CategoricalNode_410, CategoricalNode_411, GaussianNode_412, GaussianNode_413, GaussianNode_414, GaussianNode_415, GaussianNode_416, GaussianNode_417, GaussianNode_418, CategoricalNode_419, CategoricalNode_420, GaussianNode_421, CategoricalNode_422, SumNode_423, CategoricalNode_424, SumNode_425, CategoricalNode_426, GaussianNode_427, GaussianNode_428, GaussianNode_429, GaussianNode_430, GaussianNode_431, GaussianNode_432, GaussianNode_433, CategoricalNode_434, CategoricalNode_435, GaussianNode_436, GaussianNode_437, GaussianNode_438, GaussianNode_439, GaussianNode_440, GaussianNode_441, GaussianNode_442, CategoricalNode_443, CategoricalNode_444, GaussianNode_445, GaussianNode_446, GaussianNode_447, GaussianNode_448, GaussianNode_449, GaussianNode_450, GaussianNode_451, CategoricalNode_452, CategoricalNode_453, GaussianNode_454, GaussianNode_455, GaussianNode_456, GaussianNode_457, GaussianNode_458, GaussianNode_459, GaussianNode_460, CategoricalNode_461, CategoricalNode_462, SumNode_463, CategoricalNode_464, GaussianNode_465, GaussianNode_466, GaussianNode_467, GaussianNode_468, GaussianNode_469, GaussianNode_470, GaussianNode_471, CategoricalNode_472, CategoricalNode_473, GaussianNode_474, GaussianNode_475, GaussianNode_476, GaussianNode_477, GaussianNode_478, GaussianNode_479, GaussianNode_480, CategoricalNode_481, CategoricalNode_482, GaussianNode_483, GaussianNode_484, GaussianNode_485, GaussianNode_486, GaussianNode_487, GaussianNode_488, GaussianNode_489, CategoricalNode_490, CategoricalNode_491, GaussianNode_492, GaussianNode_493, GaussianNode_494, GaussianNode_495, GaussianNode_496, GaussianNode_497, GaussianNode_498, CategoricalNode_499, CategoricalNode_500, GaussianNode_501, GaussianNode_502, GaussianNode_503, GaussianNode_504, GaussianNode_505, GaussianNode_506, GaussianNode_507, CategoricalNode_508, CategoricalNode_509, SumNode_510, CategoricalNode_511, GaussianNode_512, CategoricalNode_513, SumNode_514, CategoricalNode_515, CategoricalNode_516, SumNode_517, CategoricalNode_518, SumNode_519, ProductNode_520, ProductNode_521, ProductNode_522, ProductNode_523, ProductNode_524, ProductNode_525, ProductNode_526, ProductNode_527, ProductNode_528, ProductNode_529, ProductNode_530, ProductNode_531, ProductNode_532, ProductNode_533, ProductNode_534, ProductNode_535, ProductNode_536, ProductNode_537, ProductNode_538, ProductNode_539, ProductNode_540, ProductNode_541, ProductNode_542, ProductNode_543, ProductNode_544, ProductNode_545, ProductNode_546, ProductNode_547, ProductNode_548, ProductNode_549, ProductNode_550, ProductNode_551, ProductNode_552, ProductNode_553, ProductNode_554, ProductNode_555, ProductNode_556, ProductNode_557, ProductNode_558, ProductNode_559, ProductNode_560, ProductNode_561, ProductNode_562, ProductNode_563, ProductNode_564, ProductNode_565, ProductNode_566, ProductNode_567, ProductNode_568, ProductNode_569, ProductNode_570, ProductNode_571, ProductNode_572, ProductNode_573, ProductNode_574, ProductNode_575, ProductNode_576, ProductNode_577, ProductNode_578, ProductNode_579, ProductNode_580, ProductNode_581, ProductNode_582, ProductNode_583, ProductNode_584, ProductNode_585, ProductNode_586, ProductNode_587, ProductNode_588, ProductNode_589, ProductNode_590, ProductNode_591, ProductNode_592, ProductNode_593, ProductNode_594, ProductNode_595, ProductNode_596, ProductNode_597, ProductNode_598, ProductNode_599, ProductNode_600, ProductNode_601, ProductNode_602, ProductNode_603, ProductNode_604, ProductNode_605, ProductNode_606, ProductNode_607, ProductNode_608, ProductNode_609, ProductNode_610, ProductNode_611, ProductNode_612, ProductNode_613, ProductNode_614, ProductNode_615, ProductNode_616, ProductNode_617, ProductNode_618, ProductNode_619, ProductNode_620, ProductNode_621, ProductNode_622, ProductNode_623, ProductNode_624, ProductNode_625, ProductNode_626, ProductNode_627, ProductNode_628, ProductNode_629, ProductNode_630, ProductNode_631, ProductNode_632, ProductNode_633, ProductNode_634, ProductNode_635, ProductNode_636, ProductNode_637, ProductNode_638, ProductNode_639, ProductNode_640, ProductNode_641, ProductNode_642, ProductNode_643, ProductNode_644, ProductNode_645, ProductNode_646, ProductNode_647, ProductNode_648, ProductNode_649, ProductNode_650, ProductNode_651, ProductNode_652, ProductNode_653, ProductNode_654, ProductNode_655, ProductNode_656, ProductNode_657, ProductNode_658, ProductNode_659, ProductNode_660, ProductNode_661, ProductNode_662, ProductNode_663, ProductNode_664, ProductNode_665, ProductNode_666, ProductNode_667, ProductNode_668, ProductNode_669, ProductNode_670, ProductNode_671, ProductNode_672, ProductNode_673, ProductNode_674, ProductNode_675, ProductNode_676, GaussianNode_677, SumNode_678, SumNode_679, GaussianNode_680, CategoricalNode_681, SumNode_682, CategoricalNode_683, SumNode_684, CategoricalNode_685, CategoricalNode_686, SumNode_687, CategoricalNode_688, GaussianNode_689, GaussianNode_690, GaussianNode_691, GaussianNode_692, GaussianNode_693, GaussianNode_694, CategoricalNode_695, CategoricalNode_696, GaussianNode_697, GaussianNode_698, GaussianNode_699, GaussianNode_700, GaussianNode_701, GaussianNode_702, CategoricalNode_703, GaussianNode_704, SumNode_705, CategoricalNode_706, SumNode_707, GaussianNode_708, GaussianNode_709, SumNode_710, GaussianNode_711, GaussianNode_712, GaussianNode_713, CategoricalNode_714, SumNode_715, GaussianNode_716, SumNode_717, GaussianNode_718, SumNode_719, CategoricalNode_720, GaussianNode_721, GaussianNode_722, GaussianNode_723, GaussianNode_724, GaussianNode_725, GaussianNode_726, CategoricalNode_727, CategoricalNode_728, GaussianNode_729, GaussianNode_730, GaussianNode_731, GaussianNode_732, GaussianNode_733, GaussianNode_734, CategoricalNode_735, GaussianNode_736, SumNode_737, GaussianNode_738, SumNode_739, CategoricalNode_740, SumNode_741, CategoricalNode_742, SumNode_743, CategoricalNode_744, SumNode_745, CategoricalNode_746, GaussianNode_747, GaussianNode_748, GaussianNode_749, GaussianNode_750, GaussianNode_751, GaussianNode_752, CategoricalNode_753, CategoricalNode_754, SumNode_755, CategoricalNode_756, SumNode_757, CategoricalNode_758, GaussianNode_759, GaussianNode_760, GaussianNode_761, GaussianNode_762, GaussianNode_763, GaussianNode_764, CategoricalNode_765, CategoricalNode_766, GaussianNode_767, SumNode_768, CategoricalNode_769, SumNode_770, CategoricalNode_771, SumNode_772, CategoricalNode_773, GaussianNode_774, GaussianNode_775, GaussianNode_776, GaussianNode_777, GaussianNode_778, GaussianNode_779, CategoricalNode_780, GaussianNode_781, SumNode_782, CategoricalNode_783, SumNode_784, CategoricalNode_785, GaussianNode_786, GaussianNode_787, GaussianNode_788, GaussianNode_789, GaussianNode_790, GaussianNode_791, CategoricalNode_792, CategoricalNode_793, SumNode_794, CategoricalNode_795, SumNode_796, CategoricalNode_797, GaussianNode_798, GaussianNode_799, GaussianNode_800, GaussianNode_801, GaussianNode_802, GaussianNode_803, CategoricalNode_804, GaussianNode_805, SumNode_806, CategoricalNode_807, SumNode_808, CategoricalNode_809, GaussianNode_810, GaussianNode_811, GaussianNode_812, GaussianNode_813, GaussianNode_814, GaussianNode_815, CategoricalNode_816, CategoricalNode_817, GaussianNode_818, GaussianNode_819, GaussianNode_820, GaussianNode_821, GaussianNode_822, GaussianNode_823, CategoricalNode_824, CategoricalNode_825, SumNode_826, CategoricalNode_827, GaussianNode_828, GaussianNode_829, GaussianNode_830, GaussianNode_831, GaussianNode_832, GaussianNode_833, CategoricalNode_834, GaussianNode_835, SumNode_836, CategoricalNode_837, GaussianNode_838, GaussianNode_839, GaussianNode_840, GaussianNode_841, GaussianNode_842, GaussianNode_843, CategoricalNode_844, CategoricalNode_845, SumNode_846, CategoricalNode_847, SumNode_848, CategoricalNode_849, GaussianNode_850, GaussianNode_851, GaussianNode_852, GaussianNode_853, GaussianNode_854, GaussianNode_855, CategoricalNode_856, CategoricalNode_857, SumNode_858, CategoricalNode_859, GaussianNode_860, GaussianNode_861, GaussianNode_862, GaussianNode_863, GaussianNode_864, GaussianNode_865, CategoricalNode_866, GaussianNode_867, CategoricalNode_868, SumNode_869, CategoricalNode_870, GaussianNode_871, GaussianNode_872, GaussianNode_873, GaussianNode_874, GaussianNode_875, GaussianNode_876, CategoricalNode_877, CategoricalNode_878, GaussianNode_879, GaussianNode_880, GaussianNode_881, GaussianNode_882, GaussianNode_883, GaussianNode_884, CategoricalNode_885, CategoricalNode_886, GaussianNode_887, SumNode_888, GaussianNode_889, CategoricalNode_890, SumNode_891, GaussianNode_892, CategoricalNode_893, SumNode_894, CategoricalNode_895, GaussianNode_896, GaussianNode_897, GaussianNode_898, GaussianNode_899, GaussianNode_900, GaussianNode_901, CategoricalNode_902, CategoricalNode_903, GaussianNode_904, GaussianNode_905, GaussianNode_906, GaussianNode_907, GaussianNode_908, GaussianNode_909, CategoricalNode_910, CategoricalNode_911, SumNode_912, CategoricalNode_913, GaussianNode_914, GaussianNode_915, GaussianNode_916, GaussianNode_917, GaussianNode_918, GaussianNode_919, CategoricalNode_920, CategoricalNode_921, SumNode_922, CategoricalNode_923, GaussianNode_924, GaussianNode_925, GaussianNode_926, GaussianNode_927, GaussianNode_928, GaussianNode_929, CategoricalNode_930, CategoricalNode_931, GaussianNode_932, GaussianNode_933, GaussianNode_934, GaussianNode_935, GaussianNode_936, GaussianNode_937, CategoricalNode_938, CategoricalNode_939, GaussianNode_940, GaussianNode_941, GaussianNode_942, GaussianNode_943, GaussianNode_944, GaussianNode_945, CategoricalNode_946, CategoricalNode_947, SumNode_948, CategoricalNode_949, SumNode_950, GaussianNode_951, GaussianNode_952, CategoricalNode_953, SumNode_954, CategoricalNode_955, GaussianNode_956, GaussianNode_957, GaussianNode_958, GaussianNode_959, GaussianNode_960, GaussianNode_961, CategoricalNode_962, CategoricalNode_963, GaussianNode_964, GaussianNode_965, GaussianNode_966, GaussianNode_967, GaussianNode_968, GaussianNode_969, CategoricalNode_970, CategoricalNode_971, GaussianNode_972, GaussianNode_973, GaussianNode_974, GaussianNode_975, GaussianNode_976, GaussianNode_977, CategoricalNode_978, CategoricalNode_979, GaussianNode_980, GaussianNode_981, GaussianNode_982, GaussianNode_983, GaussianNode_984, GaussianNode_985, CategoricalNode_986, CategoricalNode_987, GaussianNode_988, GaussianNode_989, GaussianNode_990, GaussianNode_991, GaussianNode_992, GaussianNode_993, CategoricalNode_994, CategoricalNode_995, GaussianNode_996, GaussianNode_997, GaussianNode_998, GaussianNode_999, GaussianNode_1000, GaussianNode_1001, CategoricalNode_1002, CategoricalNode_1003, GaussianNode_1004, GaussianNode_1005, GaussianNode_1006, GaussianNode_1007, GaussianNode_1008, GaussianNode_1009, CategoricalNode_1010, CategoricalNode_1011, GaussianNode_1012, GaussianNode_1013, GaussianNode_1014, GaussianNode_1015, GaussianNode_1016, GaussianNode_1017, CategoricalNode_1018, CategoricalNode_1019, GaussianNode_1020, GaussianNode_1021, GaussianNode_1022, GaussianNode_1023, GaussianNode_1024, GaussianNode_1025, CategoricalNode_1026, CategoricalNode_1027, GaussianNode_1028, GaussianNode_1029, GaussianNode_1030, GaussianNode_1031, GaussianNode_1032, GaussianNode_1033, CategoricalNode_1034, CategoricalNode_1035, GaussianNode_1036, GaussianNode_1037, GaussianNode_1038, GaussianNode_1039, GaussianNode_1040, GaussianNode_1041, CategoricalNode_1042, CategoricalNode_1043, SumNode_1044, CategoricalNode_1045, GaussianNode_1046, GaussianNode_1047, GaussianNode_1048, GaussianNode_1049, GaussianNode_1050, GaussianNode_1051, CategoricalNode_1052, CategoricalNode_1053, GaussianNode_1054, CategoricalNode_1055, SumNode_1056, CategoricalNode_1057, GaussianNode_1058, GaussianNode_1059, GaussianNode_1060, GaussianNode_1061, GaussianNode_1062, GaussianNode_1063, CategoricalNode_1064, CategoricalNode_1065, GaussianNode_1066, GaussianNode_1067, GaussianNode_1068, GaussianNode_1069, GaussianNode_1070, GaussianNode_1071, CategoricalNode_1072, CategoricalNode_1073, SumNode_1074, CategoricalNode_1075, GaussianNode_1076, GaussianNode_1077, GaussianNode_1078, GaussianNode_1079, GaussianNode_1080, GaussianNode_1081, CategoricalNode_1082, CategoricalNode_1083, SumNode_1084, CategoricalNode_1085, GaussianNode_1086, GaussianNode_1087, GaussianNode_1088, GaussianNode_1089, GaussianNode_1090, GaussianNode_1091, CategoricalNode_1092, CategoricalNode_1093, GaussianNode_1094, GaussianNode_1095, GaussianNode_1096, GaussianNode_1097, GaussianNode_1098, CategoricalNode_1099, GaussianNode_1100, GaussianNode_1101, GaussianNode_1102, GaussianNode_1103, GaussianNode_1104, CategoricalNode_1105, GaussianNode_1106, GaussianNode_1107, GaussianNode_1108, GaussianNode_1109, GaussianNode_1110, GaussianNode_1111, CategoricalNode_1112, GaussianNode_1113, GaussianNode_1114, GaussianNode_1115, GaussianNode_1116, GaussianNode_1117, GaussianNode_1118, CategoricalNode_1119, GaussianNode_1120, GaussianNode_1121, GaussianNode_1122, GaussianNode_1123, GaussianNode_1124, GaussianNode_1125, GaussianNode_1126, CategoricalNode_1127, GaussianNode_1128, GaussianNode_1129, GaussianNode_1130, GaussianNode_1131, GaussianNode_1132, GaussianNode_1133, GaussianNode_1134, CategoricalNode_1135, GaussianNode_1136, GaussianNode_1137, GaussianNode_1138, GaussianNode_1139, GaussianNode_1140, GaussianNode_1141, GaussianNode_1142, CategoricalNode_1143, GaussianNode_1144, GaussianNode_1145, GaussianNode_1146, GaussianNode_1147, GaussianNode_1148, GaussianNode_1149, GaussianNode_1150, CategoricalNode_1151, SumNode_1152, CategoricalNode_1153, GaussianNode_1154, GaussianNode_1155, GaussianNode_1156, GaussianNode_1157, GaussianNode_1158, GaussianNode_1159, GaussianNode_1160, CategoricalNode_1161, GaussianNode_1162, GaussianNode_1163, GaussianNode_1164, GaussianNode_1165, GaussianNode_1166, GaussianNode_1167, GaussianNode_1168, CategoricalNode_1169, GaussianNode_1170, GaussianNode_1171, GaussianNode_1172, GaussianNode_1173, GaussianNode_1174, GaussianNode_1175, GaussianNode_1176, CategoricalNode_1177, GaussianNode_1178, GaussianNode_1179, GaussianNode_1180, GaussianNode_1181, GaussianNode_1182, GaussianNode_1183, GaussianNode_1184, CategoricalNode_1185, GaussianNode_1186, GaussianNode_1187, GaussianNode_1188, GaussianNode_1189, GaussianNode_1190, GaussianNode_1191, GaussianNode_1192, CategoricalNode_1193, GaussianNode_1194, GaussianNode_1195, GaussianNode_1196, GaussianNode_1197, GaussianNode_1198, GaussianNode_1199, GaussianNode_1200, GaussianNode_1201, GaussianNode_1202, GaussianNode_1203, GaussianNode_1204, GaussianNode_1205, GaussianNode_1206, GaussianNode_1207, GaussianNode_1208, GaussianNode_1209, GaussianNode_1210, GaussianNode_1211, GaussianNode_1212, GaussianNode_1213, GaussianNode_1214, CategoricalNode_1215, GaussianNode_1216, GaussianNode_1217, GaussianNode_1218, GaussianNode_1219, GaussianNode_1220, GaussianNode_1221, GaussianNode_1222, CategoricalNode_1223, GaussianNode_1224, GaussianNode_1225, GaussianNode_1226, GaussianNode_1227, GaussianNode_1228, GaussianNode_1229, GaussianNode_1230, CategoricalNode_1231, GaussianNode_1232, GaussianNode_1233, GaussianNode_1234, GaussianNode_1235, GaussianNode_1236, GaussianNode_1237, GaussianNode_1238, CategoricalNode_1239, GaussianNode_1240, GaussianNode_1241, GaussianNode_1242, GaussianNode_1243, GaussianNode_1244, GaussianNode_1245, GaussianNode_1246, CategoricalNode_1247, GaussianNode_1248, GaussianNode_1249, GaussianNode_1250, GaussianNode_1251, GaussianNode_1252, GaussianNode_1253, CategoricalNode_1254, GaussianNode_1255, GaussianNode_1256, GaussianNode_1257, GaussianNode_1258, GaussianNode_1259, GaussianNode_1260, CategoricalNode_1261, GaussianNode_1262, GaussianNode_1263, GaussianNode_1264, GaussianNode_1265, GaussianNode_1266, GaussianNode_1267, CategoricalNode_1268, GaussianNode_1269, GaussianNode_1270, GaussianNode_1271, GaussianNode_1272, GaussianNode_1273, GaussianNode_1274, CategoricalNode_1275, GaussianNode_1276, GaussianNode_1277, GaussianNode_1278, GaussianNode_1279, GaussianNode_1280, GaussianNode_1281, GaussianNode_1282, CategoricalNode_1283, GaussianNode_1284, GaussianNode_1285, GaussianNode_1286, GaussianNode_1287, GaussianNode_1288, GaussianNode_1289, GaussianNode_1290, CategoricalNode_1291, GaussianNode_1292, GaussianNode_1293, GaussianNode_1294, GaussianNode_1295, GaussianNode_1296, GaussianNode_1297, GaussianNode_1298, CategoricalNode_1299, GaussianNode_1300, GaussianNode_1301, GaussianNode_1302, GaussianNode_1303, GaussianNode_1304, GaussianNode_1305, GaussianNode_1306, CategoricalNode_1307, GaussianNode_1308, GaussianNode_1309, GaussianNode_1310, GaussianNode_1311, GaussianNode_1312, GaussianNode_1313, CategoricalNode_1314, CategoricalNode_1315, GaussianNode_1316, GaussianNode_1317, GaussianNode_1318, GaussianNode_1319, GaussianNode_1320, GaussianNode_1321, CategoricalNode_1322, CategoricalNode_1323, GaussianNode_1324, GaussianNode_1325, GaussianNode_1326, GaussianNode_1327, GaussianNode_1328, GaussianNode_1329, GaussianNode_1330, CategoricalNode_1331, GaussianNode_1332, GaussianNode_1333, GaussianNode_1334, GaussianNode_1335, GaussianNode_1336, GaussianNode_1337, GaussianNode_1338, CategoricalNode_1339, GaussianNode_1340, GaussianNode_1341, GaussianNode_1342, GaussianNode_1343, GaussianNode_1344, GaussianNode_1345, GaussianNode_1346, CategoricalNode_1347, GaussianNode_1348, GaussianNode_1349, GaussianNode_1350, GaussianNode_1351, GaussianNode_1352, GaussianNode_1353, GaussianNode_1354, CategoricalNode_1355, GaussianNode_1356, GaussianNode_1357, GaussianNode_1358, GaussianNode_1359, GaussianNode_1360, GaussianNode_1361, GaussianNode_1362, CategoricalNode_1363, GaussianNode_1364, GaussianNode_1365, GaussianNode_1366, GaussianNode_1367, GaussianNode_1368, GaussianNode_1369, GaussianNode_1370, CategoricalNode_1371, GaussianNode_1372, GaussianNode_1373, GaussianNode_1374, GaussianNode_1375, GaussianNode_1376, GaussianNode_1377, GaussianNode_1378, GaussianNode_1379, SumNode_1380, CategoricalNode_1381, GaussianNode_1382, GaussianNode_1383, GaussianNode_1384, GaussianNode_1385, GaussianNode_1386, GaussianNode_1387, GaussianNode_1388, CategoricalNode_1389, GaussianNode_1390, GaussianNode_1391, GaussianNode_1392, GaussianNode_1393, GaussianNode_1394, GaussianNode_1395, CategoricalNode_1396, CategoricalNode_1397, GaussianNode_1398, GaussianNode_1399, GaussianNode_1400, GaussianNode_1401, GaussianNode_1402, GaussianNode_1403, CategoricalNode_1404, CategoricalNode_1405, GaussianNode_1406, GaussianNode_1407, GaussianNode_1408, GaussianNode_1409, GaussianNode_1410, GaussianNode_1411, CategoricalNode_1412, GaussianNode_1413, GaussianNode_1414, GaussianNode_1415, GaussianNode_1416, GaussianNode_1417, GaussianNode_1418, CategoricalNode_1419, GaussianNode_1420, GaussianNode_1421, GaussianNode_1422, GaussianNode_1423, GaussianNode_1424, GaussianNode_1425, CategoricalNode_1426, CategoricalNode_1427, GaussianNode_1428, GaussianNode_1429, GaussianNode_1430, GaussianNode_1431, GaussianNode_1432, GaussianNode_1433, CategoricalNode_1434, GaussianNode_1435, GaussianNode_1436, GaussianNode_1437, GaussianNode_1438, GaussianNode_1439, GaussianNode_1440, GaussianNode_1441, GaussianNode_1442, GaussianNode_1443, GaussianNode_1444, GaussianNode_1445, GaussianNode_1446, GaussianNode_1447, GaussianNode_1448, CategoricalNode_1449, GaussianNode_1450, GaussianNode_1451, GaussianNode_1452, GaussianNode_1453, GaussianNode_1454, GaussianNode_1455, GaussianNode_1456, CategoricalNode_1457, GaussianNode_1458, GaussianNode_1459, GaussianNode_1460, GaussianNode_1461, GaussianNode_1462, GaussianNode_1463, GaussianNode_1464, CategoricalNode_1465, GaussianNode_1466, GaussianNode_1467, GaussianNode_1468, GaussianNode_1469, GaussianNode_1470, GaussianNode_1471, GaussianNode_1472, CategoricalNode_1473, GaussianNode_1474, GaussianNode_1475, GaussianNode_1476, GaussianNode_1477, GaussianNode_1478, GaussianNode_1479, GaussianNode_1480, CategoricalNode_1481, GaussianNode_1482, GaussianNode_1483, GaussianNode_1484, GaussianNode_1485, GaussianNode_1486, GaussianNode_1487, GaussianNode_1488, CategoricalNode_1489, GaussianNode_1490, GaussianNode_1491, GaussianNode_1492, GaussianNode_1493, GaussianNode_1494, GaussianNode_1495, GaussianNode_1496, CategoricalNode_1497, GaussianNode_1498, GaussianNode_1499, GaussianNode_1500, GaussianNode_1501, GaussianNode_1502, GaussianNode_1503, GaussianNode_1504, CategoricalNode_1505, GaussianNode_1506, GaussianNode_1507, GaussianNode_1508, GaussianNode_1509, GaussianNode_1510, GaussianNode_1511, GaussianNode_1512, CategoricalNode_1513, GaussianNode_1514, GaussianNode_1515, GaussianNode_1516, GaussianNode_1517, GaussianNode_1518, GaussianNode_1519, CategoricalNode_1520, CategoricalNode_1521, GaussianNode_1522, GaussianNode_1523, GaussianNode_1524, GaussianNode_1525, GaussianNode_1526, GaussianNode_1527, CategoricalNode_1528, CategoricalNode_1529, GaussianNode_1530, GaussianNode_1531, GaussianNode_1532, GaussianNode_1533, GaussianNode_1534, GaussianNode_1535, CategoricalNode_1536, GaussianNode_1537, GaussianNode_1538, GaussianNode_1539, GaussianNode_1540, GaussianNode_1541, GaussianNode_1542, GaussianNode_1543, GaussianNode_1544, GaussianNode_1545, GaussianNode_1546, GaussianNode_1547, GaussianNode_1548, CategoricalNode_1549, GaussianNode_1550, GaussianNode_1551, GaussianNode_1552, GaussianNode_1553, GaussianNode_1554, GaussianNode_1555, GaussianNode_1556, CategoricalNode_1557, GaussianNode_1558, GaussianNode_1559, GaussianNode_1560, GaussianNode_1561, GaussianNode_1562, GaussianNode_1563, GaussianNode_1564, CategoricalNode_1565, GaussianNode_1566, GaussianNode_1567, GaussianNode_1568, GaussianNode_1569, GaussianNode_1570, GaussianNode_1571, GaussianNode_1572, CategoricalNode_1573, GaussianNode_1574, GaussianNode_1575, GaussianNode_1576, GaussianNode_1577, GaussianNode_1578, GaussianNode_1579, GaussianNode_1580, CategoricalNode_1581, GaussianNode_1582, GaussianNode_1583, GaussianNode_1584, GaussianNode_1585, GaussianNode_1586, GaussianNode_1587, GaussianNode_1588, CategoricalNode_1589, GaussianNode_1590, GaussianNode_1591, GaussianNode_1592, GaussianNode_1593, GaussianNode_1594, GaussianNode_1595, GaussianNode_1596, GaussianNode_1597, GaussianNode_1598, GaussianNode_1599, GaussianNode_1600, GaussianNode_1601, GaussianNode_1602, GaussianNode_1603, GaussianNode_1604, GaussianNode_1605, GaussianNode_1606, GaussianNode_1607, GaussianNode_1608, GaussianNode_1609, GaussianNode_1610, GaussianNode_1611, GaussianNode_1612, GaussianNode_1613, GaussianNode_1614, GaussianNode_1615, GaussianNode_1616, GaussianNode_1617, GaussianNode_1618, GaussianNode_1619, GaussianNode_1620, GaussianNode_1621, GaussianNode_1622, CategoricalNode_1623, GaussianNode_1624, SumNode_1625, CategoricalNode_1626, GaussianNode_1627, GaussianNode_1628, GaussianNode_1629, GaussianNode_1630, GaussianNode_1631, GaussianNode_1632, GaussianNode_1633, ProductNode_1634, ProductNode_1635, ProductNode_1636, ProductNode_1637, ProductNode_1638, ProductNode_1639, ProductNode_1640, ProductNode_1641, ProductNode_1642, ProductNode_1643, ProductNode_1644, ProductNode_1645, ProductNode_1646, ProductNode_1647, ProductNode_1648, ProductNode_1649, ProductNode_1650, ProductNode_1651, ProductNode_1652, ProductNode_1653, ProductNode_1654, ProductNode_1655, ProductNode_1656, ProductNode_1657, ProductNode_1658, ProductNode_1659, ProductNode_1660, ProductNode_1661, ProductNode_1662, ProductNode_1663, ProductNode_1664, ProductNode_1665, ProductNode_1666, ProductNode_1667, ProductNode_1668, ProductNode_1669, ProductNode_1670, ProductNode_1671, ProductNode_1672, ProductNode_1673, ProductNode_1674, ProductNode_1675, ProductNode_1676, ProductNode_1677, ProductNode_1678, ProductNode_1679, ProductNode_1680, ProductNode_1681, ProductNode_1682, ProductNode_1683, ProductNode_1684, ProductNode_1685, ProductNode_1686, ProductNode_1687, ProductNode_1688, ProductNode_1689, ProductNode_1690, ProductNode_1691, ProductNode_1692, ProductNode_1693, ProductNode_1694, ProductNode_1695, ProductNode_1696, ProductNode_1697, ProductNode_1698, ProductNode_1699, ProductNode_1700, ProductNode_1701, ProductNode_1702, ProductNode_1703, ProductNode_1704, ProductNode_1705, ProductNode_1706, ProductNode_1707, ProductNode_1708, ProductNode_1709, ProductNode_1710, ProductNode_1711, ProductNode_1712, ProductNode_1713, ProductNode_1714, ProductNode_1715, ProductNode_1716, ProductNode_1717, ProductNode_1718, ProductNode_1719, ProductNode_1720, ProductNode_1721, ProductNode_1722, ProductNode_1723, ProductNode_1724, ProductNode_1725, ProductNode_1726, ProductNode_1727, ProductNode_1728, ProductNode_1729, ProductNode_1730, ProductNode_1731, ProductNode_1732, ProductNode_1733, ProductNode_1734, ProductNode_1735, ProductNode_1736, ProductNode_1737, ProductNode_1738, ProductNode_1739, ProductNode_1740, ProductNode_1741, ProductNode_1742, ProductNode_1743, ProductNode_1744, ProductNode_1745, ProductNode_1746, ProductNode_1747, ProductNode_1748, ProductNode_1749, ProductNode_1750, ProductNode_1751, ProductNode_1752, ProductNode_1753, ProductNode_1754, ProductNode_1755, ProductNode_1756, ProductNode_1757, ProductNode_1758, ProductNode_1759, ProductNode_1760, ProductNode_1761, ProductNode_1762, ProductNode_1763, ProductNode_1764, ProductNode_1765, ProductNode_1766, ProductNode_1767, ProductNode_1768, ProductNode_1769, ProductNode_1770, ProductNode_1771, ProductNode_1772, ProductNode_1773, ProductNode_1774, ProductNode_1775, ProductNode_1776, ProductNode_1777, ProductNode_1778, ProductNode_1779, ProductNode_1780, ProductNode_1781, ProductNode_1782, ProductNode_1783, ProductNode_1784, ProductNode_1785, ProductNode_1786, ProductNode_1787, ProductNode_1788, ProductNode_1789, ProductNode_1790, ProductNode_1791, ProductNode_1792, ProductNode_1793, ProductNode_1794, ProductNode_1795, ProductNode_1796, ProductNode_1797, ProductNode_1798, ProductNode_1799, ProductNode_1800, ProductNode_1801, ProductNode_1802, ProductNode_1803, ProductNode_1804, ProductNode_1805, ProductNode_1806, ProductNode_1807, ProductNode_1808, ProductNode_1809, ProductNode_1810, ProductNode_1811, ProductNode_1812, ProductNode_1813, ProductNode_1814, ProductNode_1815, ProductNode_1816, ProductNode_1817, ProductNode_1818, ProductNode_1819, ProductNode_1820, ProductNode_1821, ProductNode_1822, ProductNode_1823, ProductNode_1824, ProductNode_1825, ProductNode_1826, ProductNode_1827, ProductNode_1828, ProductNode_1829, ProductNode_1830, ProductNode_1831, ProductNode_1832, ProductNode_1833, ProductNode_1834, ProductNode_1835, ProductNode_1836, ProductNode_1837, ProductNode_1838, ProductNode_1839, ProductNode_1840, ProductNode_1841, ProductNode_1842, ProductNode_1843, ProductNode_1844, ProductNode_1845, ProductNode_1846, ProductNode_1847, ProductNode_1848, ProductNode_1849, ProductNode_1850, ProductNode_1851, ProductNode_1852, ProductNode_1853, ProductNode_1854, ProductNode_1855, ProductNode_1856, ProductNode_1857, ProductNode_1858, ProductNode_1859, ProductNode_1860, ProductNode_1861, ProductNode_1862, ProductNode_1863, ProductNode_1864, ProductNode_1865, ProductNode_1866, ProductNode_1867, ProductNode_1868, ProductNode_1869, ProductNode_1870, ProductNode_1871, GaussianNode_1872, CategoricalNode_1873, SumNode_1874, GaussianNode_1875, CategoricalNode_1876, SumNode_1877, GaussianNode_1878, CategoricalNode_1879, SumNode_1880, CategoricalNode_1881, SumNode_1882, CategoricalNode_1883, GaussianNode_1884, GaussianNode_1885, GaussianNode_1886, GaussianNode_1887, GaussianNode_1888, CategoricalNode_1889, CategoricalNode_1890, GaussianNode_1891, GaussianNode_1892, GaussianNode_1893, GaussianNode_1894, GaussianNode_1895, CategoricalNode_1896, GaussianNode_1897, SumNode_1898, GaussianNode_1899, SumNode_1900, GaussianNode_1901, SumNode_1902, CategoricalNode_1903, GaussianNode_1904, GaussianNode_1905, GaussianNode_1906, GaussianNode_1907, GaussianNode_1908, CategoricalNode_1909, GaussianNode_1910, SumNode_1911, GaussianNode_1912, SumNode_1913, CategoricalNode_1914, GaussianNode_1915, GaussianNode_1916, GaussianNode_1917, GaussianNode_1918, GaussianNode_1919, CategoricalNode_1920, GaussianNode_1921, SumNode_1922, CategoricalNode_1923, GaussianNode_1924, GaussianNode_1925, GaussianNode_1926, GaussianNode_1927, GaussianNode_1928, CategoricalNode_1929, GaussianNode_1930, SumNode_1931, GaussianNode_1932, SumNode_1933, GaussianNode_1934, SumNode_1935, CategoricalNode_1936, GaussianNode_1937, GaussianNode_1938, GaussianNode_1939, GaussianNode_1940, GaussianNode_1941, CategoricalNode_1942, CategoricalNode_1943, SumNode_1944, CategoricalNode_1945, SumNode_1946, GaussianNode_1947, CategoricalNode_1948, SumNode_1949, GaussianNode_1950, SumNode_1951, GaussianNode_1952, CategoricalNode_1953, SumNode_1954, CategoricalNode_1955, GaussianNode_1956, GaussianNode_1957, GaussianNode_1958, GaussianNode_1959, GaussianNode_1960, CategoricalNode_1961, CategoricalNode_1962, GaussianNode_1963, GaussianNode_1964, GaussianNode_1965, GaussianNode_1966, GaussianNode_1967, CategoricalNode_1968, CategoricalNode_1969, GaussianNode_1970, GaussianNode_1971, GaussianNode_1972, GaussianNode_1973, GaussianNode_1974, CategoricalNode_1975, CategoricalNode_1976, GaussianNode_1977, GaussianNode_1978, GaussianNode_1979, GaussianNode_1980, GaussianNode_1981, CategoricalNode_1982, CategoricalNode_1983, SumNode_1984, CategoricalNode_1985, GaussianNode_1986, GaussianNode_1987, GaussianNode_1988, GaussianNode_1989, GaussianNode_1990, CategoricalNode_1991, GaussianNode_1992, CategoricalNode_1993, SumNode_1994, CategoricalNode_1995, SumNode_1996, CategoricalNode_1997, GaussianNode_1998, GaussianNode_1999, GaussianNode_2000, GaussianNode_2001, GaussianNode_2002, CategoricalNode_2003, GaussianNode_2004, SumNode_2005, GaussianNode_2006, SumNode_2007, CategoricalNode_2008, GaussianNode_2009, GaussianNode_2010, GaussianNode_2011, GaussianNode_2012, GaussianNode_2013, CategoricalNode_2014, CategoricalNode_2015, SumNode_2016, GaussianNode_2017, SumNode_2018, GaussianNode_2019, SumNode_2020, CategoricalNode_2021, GaussianNode_2022, GaussianNode_2023, GaussianNode_2024, GaussianNode_2025, GaussianNode_2026, CategoricalNode_2027, CategoricalNode_2028, SumNode_2029, CategoricalNode_2030, SumNode_2031, CategoricalNode_2032, GaussianNode_2033, GaussianNode_2034, GaussianNode_2035, GaussianNode_2036, GaussianNode_2037, CategoricalNode_2038, CategoricalNode_2039, SumNode_2040, CategoricalNode_2041, GaussianNode_2042, GaussianNode_2043, GaussianNode_2044, GaussianNode_2045, GaussianNode_2046, CategoricalNode_2047, CategoricalNode_2048, GaussianNode_2049, GaussianNode_2050, GaussianNode_2051, GaussianNode_2052, GaussianNode_2053, CategoricalNode_2054, CategoricalNode_2055, GaussianNode_2056, GaussianNode_2057, GaussianNode_2058, GaussianNode_2059, GaussianNode_2060, CategoricalNode_2061, CategoricalNode_2062, GaussianNode_2063, GaussianNode_2064, GaussianNode_2065, GaussianNode_2066, GaussianNode_2067, CategoricalNode_2068, CategoricalNode_2069, GaussianNode_2070, GaussianNode_2071, GaussianNode_2072, GaussianNode_2073, GaussianNode_2074, CategoricalNode_2075, CategoricalNode_2076, GaussianNode_2077, GaussianNode_2078, GaussianNode_2079, GaussianNode_2080, GaussianNode_2081, CategoricalNode_2082, CategoricalNode_2083, GaussianNode_2084, GaussianNode_2085, GaussianNode_2086, GaussianNode_2087, GaussianNode_2088, CategoricalNode_2089, CategoricalNode_2090, GaussianNode_2091, GaussianNode_2092, GaussianNode_2093, GaussianNode_2094, GaussianNode_2095, CategoricalNode_2096, CategoricalNode_2097, GaussianNode_2098, GaussianNode_2099, GaussianNode_2100, GaussianNode_2101, GaussianNode_2102, CategoricalNode_2103, CategoricalNode_2104, GaussianNode_2105, GaussianNode_2106, GaussianNode_2107, GaussianNode_2108, GaussianNode_2109, CategoricalNode_2110, CategoricalNode_2111, GaussianNode_2112, GaussianNode_2113, GaussianNode_2114, GaussianNode_2115, GaussianNode_2116, CategoricalNode_2117, CategoricalNode_2118, GaussianNode_2119, GaussianNode_2120, GaussianNode_2121, GaussianNode_2122, GaussianNode_2123, CategoricalNode_2124, CategoricalNode_2125, GaussianNode_2126, GaussianNode_2127, GaussianNode_2128, GaussianNode_2129, GaussianNode_2130, CategoricalNode_2131, CategoricalNode_2132, GaussianNode_2133, GaussianNode_2134, GaussianNode_2135, GaussianNode_2136, GaussianNode_2137, CategoricalNode_2138, CategoricalNode_2139, GaussianNode_2140, GaussianNode_2141, GaussianNode_2142, GaussianNode_2143, GaussianNode_2144, GaussianNode_2145, CategoricalNode_2146, GaussianNode_2147, GaussianNode_2148, GaussianNode_2149, GaussianNode_2150, GaussianNode_2151, GaussianNode_2152, CategoricalNode_2153, GaussianNode_2154, GaussianNode_2155, GaussianNode_2156, GaussianNode_2157, GaussianNode_2158, GaussianNode_2159, CategoricalNode_2160, GaussianNode_2161, GaussianNode_2162, GaussianNode_2163, GaussianNode_2164, GaussianNode_2165, GaussianNode_2166, CategoricalNode_2167, GaussianNode_2168, GaussianNode_2169, GaussianNode_2170, GaussianNode_2171, GaussianNode_2172, GaussianNode_2173, CategoricalNode_2174, GaussianNode_2175, GaussianNode_2176, GaussianNode_2177, GaussianNode_2178, GaussianNode_2179, GaussianNode_2180, CategoricalNode_2181, GaussianNode_2182, GaussianNode_2183, GaussianNode_2184, GaussianNode_2185, GaussianNode_2186, GaussianNode_2187, CategoricalNode_2188, GaussianNode_2189, GaussianNode_2190, GaussianNode_2191, GaussianNode_2192, GaussianNode_2193, GaussianNode_2194, CategoricalNode_2195, GaussianNode_2196, GaussianNode_2197, GaussianNode_2198, GaussianNode_2199, GaussianNode_2200, GaussianNode_2201, CategoricalNode_2202, GaussianNode_2203, GaussianNode_2204, GaussianNode_2205, GaussianNode_2206, GaussianNode_2207, GaussianNode_2208, GaussianNode_2209, GaussianNode_2210, GaussianNode_2211, GaussianNode_2212, GaussianNode_2213, GaussianNode_2214, GaussianNode_2215, GaussianNode_2216, GaussianNode_2217, GaussianNode_2218, GaussianNode_2219, GaussianNode_2220, CategoricalNode_2221, GaussianNode_2222, CategoricalNode_2223, SumNode_2224, GaussianNode_2225, SumNode_2226, GaussianNode_2227, GaussianNode_2228, GaussianNode_2229, GaussianNode_2230, SumNode_2231, GaussianNode_2232, GaussianNode_2233, SumNode_2234, CategoricalNode_2235, GaussianNode_2236, GaussianNode_2237, GaussianNode_2238, GaussianNode_2239, GaussianNode_2240, GaussianNode_2241, CategoricalNode_2242, GaussianNode_2243, GaussianNode_2244, GaussianNode_2245, GaussianNode_2246, CategoricalNode_2247, GaussianNode_2248, SumNode_2249, CategoricalNode_2250, GaussianNode_2251, GaussianNode_2252, GaussianNode_2253, GaussianNode_2254, CategoricalNode_2255, CategoricalNode_2256, GaussianNode_2257, GaussianNode_2258, GaussianNode_2259, CategoricalNode_2260, SumNode_2261, CategoricalNode_2262, GaussianNode_2263, GaussianNode_2264, GaussianNode_2265, CategoricalNode_2266, GaussianNode_2267, GaussianNode_2268, GaussianNode_2269, CategoricalNode_2270, GaussianNode_2271, GaussianNode_2272, GaussianNode_2273, CategoricalNode_2274, GaussianNode_2275, GaussianNode_2276, GaussianNode_2277, GaussianNode_2278, SumNode_2279, GaussianNode_2280, SumNode_2281, CategoricalNode_2282, GaussianNode_2283, GaussianNode_2284, GaussianNode_2285, GaussianNode_2286, GaussianNode_2287, CategoricalNode_2288, CategoricalNode_2289, GaussianNode_2290, GaussianNode_2291, GaussianNode_2292, GaussianNode_2293, GaussianNode_2294, CategoricalNode_2295, GaussianNode_2296, SumNode_2297, CategoricalNode_2298, GaussianNode_2299, GaussianNode_2300, GaussianNode_2301, GaussianNode_2302, GaussianNode_2303, CategoricalNode_2304, GaussianNode_2305, CategoricalNode_2306, SumNode_2307, GaussianNode_2308, SumNode_2309, GaussianNode_2310, SumNode_2311, CategoricalNode_2312, GaussianNode_2313, GaussianNode_2314, GaussianNode_2315, GaussianNode_2316, GaussianNode_2317, CategoricalNode_2318, CategoricalNode_2319, SumNode_2320, CategoricalNode_2321, GaussianNode_2322, GaussianNode_2323, GaussianNode_2324, GaussianNode_2325, GaussianNode_2326, CategoricalNode_2327, GaussianNode_2328, SumNode_2329, CategoricalNode_2330, SumNode_2331, GaussianNode_2332, GaussianNode_2333, SumNode_2334, CategoricalNode_2335, GaussianNode_2336, GaussianNode_2337, GaussianNode_2338, GaussianNode_2339, GaussianNode_2340, CategoricalNode_2341, CategoricalNode_2342, GaussianNode_2343, GaussianNode_2344, GaussianNode_2345, GaussianNode_2346, GaussianNode_2347, CategoricalNode_2348, CategoricalNode_2349, GaussianNode_2350, GaussianNode_2351, GaussianNode_2352, GaussianNode_2353, GaussianNode_2354, CategoricalNode_2355, CategoricalNode_2356, GaussianNode_2357, GaussianNode_2358, GaussianNode_2359, GaussianNode_2360, GaussianNode_2361, CategoricalNode_2362, CategoricalNode_2363, SumNode_2364, CategoricalNode_2365, SumNode_2366, GaussianNode_2367, SumNode_2368, CategoricalNode_2369, GaussianNode_2370, GaussianNode_2371, GaussianNode_2372, GaussianNode_2373, GaussianNode_2374, CategoricalNode_2375, GaussianNode_2376, SumNode_2377, CategoricalNode_2378, GaussianNode_2379, GaussianNode_2380, GaussianNode_2381, GaussianNode_2382, GaussianNode_2383, GaussianNode_2384, CategoricalNode_2385, GaussianNode_2386, GaussianNode_2387, GaussianNode_2388, GaussianNode_2389, GaussianNode_2390, GaussianNode_2391, CategoricalNode_2392, GaussianNode_2393, GaussianNode_2394, GaussianNode_2395, GaussianNode_2396, GaussianNode_2397, GaussianNode_2398, CategoricalNode_2399, GaussianNode_2400, GaussianNode_2401, GaussianNode_2402, GaussianNode_2403, GaussianNode_2404, GaussianNode_2405, CategoricalNode_2406, GaussianNode_2407, GaussianNode_2408, GaussianNode_2409, GaussianNode_2410, GaussianNode_2411, GaussianNode_2412, GaussianNode_2413, SumNode_2414, CategoricalNode_2415, GaussianNode_2416, GaussianNode_2417, GaussianNode_2418, GaussianNode_2419, GaussianNode_2420, GaussianNode_2421, GaussianNode_2422, SumNode_2423, CategoricalNode_2424, GaussianNode_2425, GaussianNode_2426, GaussianNode_2427, GaussianNode_2428, GaussianNode_2429, GaussianNode_2430, CategoricalNode_2431, GaussianNode_2432, GaussianNode_2433, GaussianNode_2434, GaussianNode_2435, GaussianNode_2436, GaussianNode_2437, CategoricalNode_2438, GaussianNode_2439, GaussianNode_2440, GaussianNode_2441, GaussianNode_2442, GaussianNode_2443, GaussianNode_2444, CategoricalNode_2445, GaussianNode_2446, GaussianNode_2447, GaussianNode_2448, GaussianNode_2449, GaussianNode_2450, GaussianNode_2451, CategoricalNode_2452, GaussianNode_2453, GaussianNode_2454, GaussianNode_2455, GaussianNode_2456, GaussianNode_2457, GaussianNode_2458, GaussianNode_2459, GaussianNode_2460, GaussianNode_2461, GaussianNode_2462, GaussianNode_2463, GaussianNode_2464, CategoricalNode_2465, GaussianNode_2466, GaussianNode_2467, GaussianNode_2468, GaussianNode_2469, GaussianNode_2470, GaussianNode_2471, CategoricalNode_2472, CategoricalNode_2473, GaussianNode_2474, GaussianNode_2475, GaussianNode_2476, GaussianNode_2477, GaussianNode_2478, GaussianNode_2479, CategoricalNode_2480, GaussianNode_2481, GaussianNode_2482, GaussianNode_2483, GaussianNode_2484, GaussianNode_2485, GaussianNode_2486, GaussianNode_2487, GaussianNode_2488, GaussianNode_2489, GaussianNode_2490, GaussianNode_2491, CategoricalNode_2492, GaussianNode_2493, GaussianNode_2494, GaussianNode_2495, GaussianNode_2496, GaussianNode_2497, CategoricalNode_2498, GaussianNode_2499, SumNode_2500, CategoricalNode_2501, SumNode_2502, CategoricalNode_2503, GaussianNode_2504, SumNode_2505, CategoricalNode_2506, GaussianNode_2507, GaussianNode_2508, GaussianNode_2509, GaussianNode_2510, GaussianNode_2511, GaussianNode_2512, CategoricalNode_2513, GaussianNode_2514, GaussianNode_2515, GaussianNode_2516, GaussianNode_2517, GaussianNode_2518, GaussianNode_2519, CategoricalNode_2520, GaussianNode_2521, GaussianNode_2522, GaussianNode_2523, GaussianNode_2524, GaussianNode_2525, GaussianNode_2526, CategoricalNode_2527, GaussianNode_2528, GaussianNode_2529, GaussianNode_2530, GaussianNode_2531, GaussianNode_2532, GaussianNode_2533, CategoricalNode_2534, GaussianNode_2535, GaussianNode_2536, GaussianNode_2537, GaussianNode_2538, GaussianNode_2539, GaussianNode_2540, CategoricalNode_2541, GaussianNode_2542, GaussianNode_2543, GaussianNode_2544, GaussianNode_2545, GaussianNode_2546, GaussianNode_2547, CategoricalNode_2548, GaussianNode_2549, GaussianNode_2550, GaussianNode_2551, GaussianNode_2552, GaussianNode_2553, GaussianNode_2554, CategoricalNode_2555, GaussianNode_2556, GaussianNode_2557, GaussianNode_2558, GaussianNode_2559, GaussianNode_2560, CategoricalNode_2561, CategoricalNode_2562, GaussianNode_2563, GaussianNode_2564, GaussianNode_2565, GaussianNode_2566, GaussianNode_2567, CategoricalNode_2568, CategoricalNode_2569, GaussianNode_2570, GaussianNode_2571, GaussianNode_2572, GaussianNode_2573, GaussianNode_2574, GaussianNode_2575, GaussianNode_2576, SumNode_2577, CategoricalNode_2578, SumNode_2579, CategoricalNode_2580, GaussianNode_2581, GaussianNode_2582, GaussianNode_2583, GaussianNode_2584, GaussianNode_2585, GaussianNode_2586, CategoricalNode_2587, GaussianNode_2588, GaussianNode_2589, GaussianNode_2590, GaussianNode_2591, GaussianNode_2592, GaussianNode_2593, CategoricalNode_2594, GaussianNode_2595, GaussianNode_2596, GaussianNode_2597, GaussianNode_2598, GaussianNode_2599, GaussianNode_2600, CategoricalNode_2601, GaussianNode_2602, GaussianNode_2603, GaussianNode_2604, GaussianNode_2605, GaussianNode_2606, GaussianNode_2607, CategoricalNode_2608, GaussianNode_2609, GaussianNode_2610, GaussianNode_2611, GaussianNode_2612, GaussianNode_2613, GaussianNode_2614, CategoricalNode_2615, GaussianNode_2616, GaussianNode_2617, GaussianNode_2618, GaussianNode_2619, GaussianNode_2620, GaussianNode_2621, CategoricalNode_2622, GaussianNode_2623, GaussianNode_2624, GaussianNode_2625, GaussianNode_2626, GaussianNode_2627, GaussianNode_2628, CategoricalNode_2629, GaussianNode_2630, GaussianNode_2631, GaussianNode_2632, GaussianNode_2633, GaussianNode_2634, GaussianNode_2635, GaussianNode_2636, SumNode_2637, CategoricalNode_2638, GaussianNode_2639, GaussianNode_2640, GaussianNode_2641, GaussianNode_2642, GaussianNode_2643, GaussianNode_2644, CategoricalNode_2645, GaussianNode_2646, GaussianNode_2647, GaussianNode_2648, GaussianNode_2649, GaussianNode_2650, GaussianNode_2651, CategoricalNode_2652, GaussianNode_2653, SumNode_2654, CategoricalNode_2655, GaussianNode_2656, GaussianNode_2657, GaussianNode_2658, GaussianNode_2659, GaussianNode_2660, GaussianNode_2661, GaussianNode_2662, SumNode_2663, CategoricalNode_2664, GaussianNode_2665, GaussianNode_2666, GaussianNode_2667, GaussianNode_2668, GaussianNode_2669, GaussianNode_2670, CategoricalNode_2671, GaussianNode_2672, GaussianNode_2673, GaussianNode_2674, GaussianNode_2675, GaussianNode_2676, GaussianNode_2677, CategoricalNode_2678, GaussianNode_2679, GaussianNode_2680, GaussianNode_2681, GaussianNode_2682, GaussianNode_2683, GaussianNode_2684, CategoricalNode_2685, GaussianNode_2686, GaussianNode_2687, GaussianNode_2688, GaussianNode_2689, GaussianNode_2690, GaussianNode_2691, CategoricalNode_2692, GaussianNode_2693, GaussianNode_2694, GaussianNode_2695, GaussianNode_2696, GaussianNode_2697, GaussianNode_2698, GaussianNode_2699, SumNode_2700, GaussianNode_2701, SumNode_2702, CategoricalNode_2703, GaussianNode_2704, GaussianNode_2705, GaussianNode_2706, GaussianNode_2707, GaussianNode_2708, GaussianNode_2709, CategoricalNode_2710, GaussianNode_2711, GaussianNode_2712, GaussianNode_2713, GaussianNode_2714, GaussianNode_2715, GaussianNode_2716, CategoricalNode_2717, GaussianNode_2718, GaussianNode_2719, GaussianNode_2720, GaussianNode_2721, GaussianNode_2722, GaussianNode_2723, GaussianNode_2724, SumNode_2725, CategoricalNode_2726, GaussianNode_2727, GaussianNode_2728, GaussianNode_2729, GaussianNode_2730, GaussianNode_2731, GaussianNode_2732, CategoricalNode_2733, GaussianNode_2734, GaussianNode_2735, GaussianNode_2736, GaussianNode_2737, GaussianNode_2738, GaussianNode_2739, CategoricalNode_2740, GaussianNode_2741, GaussianNode_2742, GaussianNode_2743, GaussianNode_2744, GaussianNode_2745, GaussianNode_2746, CategoricalNode_2747, GaussianNode_2748, GaussianNode_2749, GaussianNode_2750, GaussianNode_2751, GaussianNode_2752, GaussianNode_2753, CategoricalNode_2754, GaussianNode_2755, GaussianNode_2756, GaussianNode_2757, GaussianNode_2758, GaussianNode_2759, GaussianNode_2760, CategoricalNode_2761, GaussianNode_2762, GaussianNode_2763, GaussianNode_2764, GaussianNode_2765, GaussianNode_2766, GaussianNode_2767, GaussianNode_2768, SumNode_2769, CategoricalNode_2770, GaussianNode_2771, GaussianNode_2772, GaussianNode_2773, GaussianNode_2774, GaussianNode_2775, GaussianNode_2776, GaussianNode_2777, SumNode_2778, CategoricalNode_2779, GaussianNode_2780, GaussianNode_2781, GaussianNode_2782, GaussianNode_2783, GaussianNode_2784, GaussianNode_2785, CategoricalNode_2786, GaussianNode_2787, GaussianNode_2788, GaussianNode_2789, GaussianNode_2790, GaussianNode_2791, GaussianNode_2792, CategoricalNode_2793, GaussianNode_2794, GaussianNode_2795, GaussianNode_2796, GaussianNode_2797, GaussianNode_2798, CategoricalNode_2799, CategoricalNode_2800, GaussianNode_2801, GaussianNode_2802, GaussianNode_2803, GaussianNode_2804, GaussianNode_2805, CategoricalNode_2806, CategoricalNode_2807, GaussianNode_2808, GaussianNode_2809, GaussianNode_2810, GaussianNode_2811, GaussianNode_2812, GaussianNode_2813, CategoricalNode_2814, GaussianNode_2815, GaussianNode_2816, GaussianNode_2817, GaussianNode_2818, GaussianNode_2819, GaussianNode_2820, CategoricalNode_2821, GaussianNode_2822, GaussianNode_2823, GaussianNode_2824, GaussianNode_2825, GaussianNode_2826, GaussianNode_2827, CategoricalNode_2828, GaussianNode_2829, GaussianNode_2830, GaussianNode_2831, GaussianNode_2832, GaussianNode_2833, GaussianNode_2834, CategoricalNode_2835, GaussianNode_2836, GaussianNode_2837, GaussianNode_2838, GaussianNode_2839, GaussianNode_2840, GaussianNode_2841, CategoricalNode_2842, GaussianNode_2843, GaussianNode_2844, GaussianNode_2845, GaussianNode_2846, GaussianNode_2847, CategoricalNode_2848, CategoricalNode_2849, GaussianNode_2850, GaussianNode_2851, GaussianNode_2852, GaussianNode_2853, GaussianNode_2854, CategoricalNode_2855, CategoricalNode_2856, GaussianNode_2857, GaussianNode_2858, GaussianNode_2859, GaussianNode_2860, GaussianNode_2861, GaussianNode_2862, CategoricalNode_2863, GaussianNode_2864, GaussianNode_2865, GaussianNode_2866, GaussianNode_2867, GaussianNode_2868, GaussianNode_2869, CategoricalNode_2870, GaussianNode_2871, GaussianNode_2872, GaussianNode_2873, GaussianNode_2874, GaussianNode_2875, GaussianNode_2876, CategoricalNode_2877, GaussianNode_2878, GaussianNode_2879, GaussianNode_2880, GaussianNode_2881, GaussianNode_2882, GaussianNode_2883, CategoricalNode_2884, GaussianNode_2885, GaussianNode_2886, GaussianNode_2887, GaussianNode_2888, GaussianNode_2889, GaussianNode_2890, CategoricalNode_2891, GaussianNode_2892, GaussianNode_2893, GaussianNode_2894, GaussianNode_2895, GaussianNode_2896, GaussianNode_2897, CategoricalNode_2898, GaussianNode_2899, GaussianNode_2900, GaussianNode_2901, GaussianNode_2902, GaussianNode_2903, GaussianNode_2904, CategoricalNode_2905, GaussianNode_2906, GaussianNode_2907, GaussianNode_2908, GaussianNode_2909, GaussianNode_2910, CategoricalNode_2911, GaussianNode_2912, GaussianNode_2913, GaussianNode_2914, GaussianNode_2915, GaussianNode_2916, GaussianNode_2917, GaussianNode_2918, GaussianNode_2919, GaussianNode_2920, GaussianNode_2921, CategoricalNode_2922, GaussianNode_2923, GaussianNode_2924, GaussianNode_2925, GaussianNode_2926, GaussianNode_2927, CategoricalNode_2928, CategoricalNode_2929, GaussianNode_2930, GaussianNode_2931, GaussianNode_2932, GaussianNode_2933, GaussianNode_2934, CategoricalNode_2935, GaussianNode_2936, GaussianNode_2937, GaussianNode_2938, GaussianNode_2939, GaussianNode_2940, CategoricalNode_2941, GaussianNode_2942, GaussianNode_2943, GaussianNode_2944, GaussianNode_2945, GaussianNode_2946, CategoricalNode_2947, GaussianNode_2948, GaussianNode_2949, GaussianNode_2950, GaussianNode_2951, GaussianNode_2952, CategoricalNode_2953, GaussianNode_2954, GaussianNode_2955, GaussianNode_2956, GaussianNode_2957, GaussianNode_2958, GaussianNode_2959, CategoricalNode_2960, GaussianNode_2961, GaussianNode_2962, GaussianNode_2963, GaussianNode_2964, GaussianNode_2965, GaussianNode_2966, CategoricalNode_2967, GaussianNode_2968, GaussianNode_2969, GaussianNode_2970, GaussianNode_2971, GaussianNode_2972, GaussianNode_2973, CategoricalNode_2974, GaussianNode_2975, GaussianNode_2976, GaussianNode_2977, GaussianNode_2978, GaussianNode_2979, GaussianNode_2980, CategoricalNode_2981, GaussianNode_2982, GaussianNode_2983, GaussianNode_2984, GaussianNode_2985, GaussianNode_2986, GaussianNode_2987, CategoricalNode_2988, GaussianNode_2989, GaussianNode_2990, GaussianNode_2991, GaussianNode_2992, GaussianNode_2993, GaussianNode_2994, CategoricalNode_2995, GaussianNode_2996, GaussianNode_2997, GaussianNode_2998, GaussianNode_2999, GaussianNode_3000, GaussianNode_3001, CategoricalNode_3002, GaussianNode_3003, GaussianNode_3004, GaussianNode_3005, GaussianNode_3006, GaussianNode_3007, GaussianNode_3008, CategoricalNode_3009, GaussianNode_3010, GaussianNode_3011, GaussianNode_3012, GaussianNode_3013, GaussianNode_3014, GaussianNode_3015, CategoricalNode_3016, GaussianNode_3017, SumNode_3018, CategoricalNode_3019, GaussianNode_3020, GaussianNode_3021, GaussianNode_3022, GaussianNode_3023, GaussianNode_3024, GaussianNode_3025, CategoricalNode_3026, GaussianNode_3027, GaussianNode_3028, GaussianNode_3029, GaussianNode_3030, GaussianNode_3031, GaussianNode_3032, CategoricalNode_3033, GaussianNode_3034, GaussianNode_3035, GaussianNode_3036, GaussianNode_3037, CategoricalNode_3038, GaussianNode_3039, GaussianNode_3040, GaussianNode_3041, GaussianNode_3042, CategoricalNode_3043, GaussianNode_3044, GaussianNode_3045, GaussianNode_3046, GaussianNode_3047, GaussianNode_3048, GaussianNode_3049, CategoricalNode_3050, GaussianNode_3051, GaussianNode_3052, GaussianNode_3053, GaussianNode_3054, GaussianNode_3055, GaussianNode_3056, CategoricalNode_3057, GaussianNode_3058, GaussianNode_3059, GaussianNode_3060, GaussianNode_3061, GaussianNode_3062, GaussianNode_3063, CategoricalNode_3064, GaussianNode_3065, GaussianNode_3066, GaussianNode_3067, GaussianNode_3068, GaussianNode_3069, GaussianNode_3070, CategoricalNode_3071, GaussianNode_3072, GaussianNode_3073, GaussianNode_3074, GaussianNode_3075, GaussianNode_3076, GaussianNode_3077, CategoricalNode_3078, GaussianNode_3079, GaussianNode_3080, GaussianNode_3081, GaussianNode_3082, GaussianNode_3083, GaussianNode_3084, CategoricalNode_3085, GaussianNode_3086, GaussianNode_3087, GaussianNode_3088, GaussianNode_3089, GaussianNode_3090, GaussianNode_3091, CategoricalNode_3092, SumNode_3093, CategoricalNode_3094, GaussianNode_3095, GaussianNode_3096, GaussianNode_3097, GaussianNode_3098, GaussianNode_3099, GaussianNode_3100, GaussianNode_3101, GaussianNode_3102, GaussianNode_3103, GaussianNode_3104, GaussianNode_3105, GaussianNode_3106, GaussianNode_3107, GaussianNode_3108, GaussianNode_3109, GaussianNode_3110, CategoricalNode_3111, GaussianNode_3112, GaussianNode_3113, GaussianNode_3114, GaussianNode_3115, GaussianNode_3116, GaussianNode_3117, CategoricalNode_3118, SumNode_3119, CategoricalNode_3120, GaussianNode_3121, GaussianNode_3122, GaussianNode_3123, GaussianNode_3124, GaussianNode_3125, GaussianNode_3126, CategoricalNode_3127, GaussianNode_3128, GaussianNode_3129, GaussianNode_3130, GaussianNode_3131, GaussianNode_3132, GaussianNode_3133, CategoricalNode_3134, GaussianNode_3135, GaussianNode_3136, GaussianNode_3137, GaussianNode_3138, GaussianNode_3139, GaussianNode_3140, GaussianNode_3141, GaussianNode_3142, GaussianNode_3143, GaussianNode_3144, GaussianNode_3145, GaussianNode_3146, GaussianNode_3147, GaussianNode_3148, GaussianNode_3149, GaussianNode_3150, GaussianNode_3151, GaussianNode_3152, GaussianNode_3153, GaussianNode_3154, CategoricalNode_3155, GaussianNode_3156, GaussianNode_3157, GaussianNode_3158, GaussianNode_3159, GaussianNode_3160, GaussianNode_3161, CategoricalNode_3162, GaussianNode_3163, GaussianNode_3164, GaussianNode_3165, GaussianNode_3166, GaussianNode_3167, GaussianNode_3168, GaussianNode_3169, GaussianNode_3170, GaussianNode_3171, GaussianNode_3172, GaussianNode_3173, GaussianNode_3174, GaussianNode_3175, GaussianNode_3176, GaussianNode_3177, GaussianNode_3178, GaussianNode_3179, GaussianNode_3180, ProductNode_3181, ProductNode_3182, ProductNode_3183, ProductNode_3184, ProductNode_3185, ProductNode_3186, ProductNode_3187, ProductNode_3188, ProductNode_3189, ProductNode_3190, ProductNode_3191, ProductNode_3192, ProductNode_3193, ProductNode_3194, ProductNode_3195, ProductNode_3196, ProductNode_3197, ProductNode_3198, ProductNode_3199, ProductNode_3200, ProductNode_3201, ProductNode_3202, ProductNode_3203, ProductNode_3204, ProductNode_3205, ProductNode_3206, ProductNode_3207, ProductNode_3208, ProductNode_3209, ProductNode_3210, ProductNode_3211, ProductNode_3212, ProductNode_3213, ProductNode_3214, ProductNode_3215, ProductNode_3216, ProductNode_3217, ProductNode_3218, ProductNode_3219, ProductNode_3220, ProductNode_3221, ProductNode_3222, ProductNode_3223, ProductNode_3224, ProductNode_3225, ProductNode_3226, ProductNode_3227, ProductNode_3228, ProductNode_3229, ProductNode_3230, ProductNode_3231, ProductNode_3232, ProductNode_3233, ProductNode_3234, ProductNode_3235, ProductNode_3236, ProductNode_3237, ProductNode_3238, ProductNode_3239, ProductNode_3240, ProductNode_3241, ProductNode_3242, ProductNode_3243, ProductNode_3244, ProductNode_3245, ProductNode_3246, ProductNode_3247, ProductNode_3248, ProductNode_3249, ProductNode_3250, ProductNode_3251, ProductNode_3252, ProductNode_3253, ProductNode_3254, ProductNode_3255, ProductNode_3256, ProductNode_3257, ProductNode_3258, ProductNode_3259, ProductNode_3260, ProductNode_3261, ProductNode_3262, ProductNode_3263, ProductNode_3264, ProductNode_3265, ProductNode_3266, ProductNode_3267, ProductNode_3268, ProductNode_3269, ProductNode_3270, ProductNode_3271, ProductNode_3272, ProductNode_3273, ProductNode_3274, ProductNode_3275, ProductNode_3276, ProductNode_3277, ProductNode_3278, ProductNode_3279, ProductNode_3280, ProductNode_3281, ProductNode_3282, ProductNode_3283, ProductNode_3284, ProductNode_3285, ProductNode_3286, ProductNode_3287, ProductNode_3288, ProductNode_3289, ProductNode_3290, ProductNode_3291, ProductNode_3292, ProductNode_3293, ProductNode_3294, ProductNode_3295, ProductNode_3296, ProductNode_3297, ProductNode_3298, ProductNode_3299, ProductNode_3300, ProductNode_3301, ProductNode_3302, ProductNode_3303, ProductNode_3304, ProductNode_3305, ProductNode_3306, ProductNode_3307, ProductNode_3308, ProductNode_3309, ProductNode_3310, ProductNode_3311, ProductNode_3312, ProductNode_3313, ProductNode_3314, ProductNode_3315, ProductNode_3316, ProductNode_3317, ProductNode_3318, ProductNode_3319, ProductNode_3320, ProductNode_3321, ProductNode_3322, ProductNode_3323, ProductNode_3324, ProductNode_3325, ProductNode_3326, ProductNode_3327, ProductNode_3328, ProductNode_3329, ProductNode_3330, ProductNode_3331, ProductNode_3332, ProductNode_3333, ProductNode_3334, ProductNode_3335, ProductNode_3336, ProductNode_3337, ProductNode_3338, ProductNode_3339, ProductNode_3340, ProductNode_3341, ProductNode_3342, ProductNode_3343, ProductNode_3344, ProductNode_3345, ProductNode_3346, ProductNode_3347, ProductNode_3348, ProductNode_3349, ProductNode_3350, ProductNode_3351, ProductNode_3352, ProductNode_3353, ProductNode_3354, ProductNode_3355, ProductNode_3356, ProductNode_3357, ProductNode_3358, ProductNode_3359, ProductNode_3360, ProductNode_3361, ProductNode_3362, ProductNode_3363, ProductNode_3364, ProductNode_3365, ProductNode_3366, ProductNode_3367, ProductNode_3368, ProductNode_3369, ProductNode_3370, ProductNode_3371, ProductNode_3372, ProductNode_3373, ProductNode_3374, ProductNode_3375, ProductNode_3376, ProductNode_3377, ProductNode_3378, ProductNode_3379, ProductNode_3380, ProductNode_3381, ProductNode_3382, ProductNode_3383, ProductNode_3384, ProductNode_3385, ProductNode_3386, ProductNode_3387, ProductNode_3388, ProductNode_3389, ProductNode_3390, ProductNode_3391, ProductNode_3392, ProductNode_3393, ProductNode_3394, ProductNode_3395, CategoricalNode_3396, GaussianNode_3397, GaussianNode_3398, GaussianNode_3399, GaussianNode_3400, CategoricalNode_3401, GaussianNode_3402, GaussianNode_3403, GaussianNode_3404, GaussianNode_3405, CategoricalNode_3406, GaussianNode_3407, GaussianNode_3408, GaussianNode_3409, GaussianNode_3410, CategoricalNode_3411, GaussianNode_3412, GaussianNode_3413, GaussianNode_3414, GaussianNode_3415, CategoricalNode_3416, GaussianNode_3417, GaussianNode_3418, GaussianNode_3419, GaussianNode_3420, CategoricalNode_3421, GaussianNode_3422, GaussianNode_3423, GaussianNode_3424, GaussianNode_3425, CategoricalNode_3426, GaussianNode_3427, GaussianNode_3428, GaussianNode_3429, GaussianNode_3430, CategoricalNode_3431, GaussianNode_3432, GaussianNode_3433, GaussianNode_3434, GaussianNode_3435, CategoricalNode_3436, GaussianNode_3437, GaussianNode_3438, GaussianNode_3439, GaussianNode_3440, CategoricalNode_3441, GaussianNode_3442, GaussianNode_3443, GaussianNode_3444, GaussianNode_3445, CategoricalNode_3446, GaussianNode_3447, GaussianNode_3448, GaussianNode_3449, GaussianNode_3450, CategoricalNode_3451, GaussianNode_3452, GaussianNode_3453, GaussianNode_3454, GaussianNode_3455, CategoricalNode_3456, GaussianNode_3457, GaussianNode_3458, GaussianNode_3459, GaussianNode_3460, CategoricalNode_3461, GaussianNode_3462, GaussianNode_3463, GaussianNode_3464, GaussianNode_3465, CategoricalNode_3466, GaussianNode_3467, GaussianNode_3468, GaussianNode_3469, GaussianNode_3470, CategoricalNode_3471, GaussianNode_3472, GaussianNode_3473, GaussianNode_3474, GaussianNode_3475, CategoricalNode_3476, GaussianNode_3477, GaussianNode_3478, GaussianNode_3479, GaussianNode_3480, CategoricalNode_3481, GaussianNode_3482, GaussianNode_3483, GaussianNode_3484, GaussianNode_3485, CategoricalNode_3486, GaussianNode_3487, GaussianNode_3488, GaussianNode_3489, GaussianNode_3490, CategoricalNode_3491, GaussianNode_3492, GaussianNode_3493, GaussianNode_3494, GaussianNode_3495, CategoricalNode_3496, GaussianNode_3497, GaussianNode_3498, GaussianNode_3499, GaussianNode_3500, CategoricalNode_3501, GaussianNode_3502, GaussianNode_3503, GaussianNode_3504, GaussianNode_3505, GaussianNode_3506, SumNode_3507, CategoricalNode_3508, GaussianNode_3509, SumNode_3510, CategoricalNode_3511, GaussianNode_3512, GaussianNode_3513, GaussianNode_3514, GaussianNode_3515, CategoricalNode_3516, CategoricalNode_3517, SumNode_3518, CategoricalNode_3519, GaussianNode_3520, GaussianNode_3521, GaussianNode_3522, GaussianNode_3523, CategoricalNode_3524, GaussianNode_3525, CategoricalNode_3526, SumNode_3527, CategoricalNode_3528, GaussianNode_3529, GaussianNode_3530, GaussianNode_3531, GaussianNode_3532, CategoricalNode_3533, CategoricalNode_3534, SumNode_3535, GaussianNode_3536, CategoricalNode_3537, SumNode_3538, CategoricalNode_3539, GaussianNode_3540, GaussianNode_3541, GaussianNode_3542, GaussianNode_3543, CategoricalNode_3544, CategoricalNode_3545, GaussianNode_3546, GaussianNode_3547, GaussianNode_3548, GaussianNode_3549, CategoricalNode_3550, CategoricalNode_3551, GaussianNode_3552, GaussianNode_3553, GaussianNode_3554, GaussianNode_3555, CategoricalNode_3556, CategoricalNode_3557, CategoricalNode_3558, SumNode_3559, CategoricalNode_3560, SumNode_3561, CategoricalNode_3562, GaussianNode_3563, GaussianNode_3564, GaussianNode_3565, GaussianNode_3566, CategoricalNode_3567, CategoricalNode_3568, GaussianNode_3569, GaussianNode_3570, GaussianNode_3571, GaussianNode_3572, CategoricalNode_3573, CategoricalNode_3574, SumNode_3575, CategoricalNode_3576, GaussianNode_3577, GaussianNode_3578, GaussianNode_3579, GaussianNode_3580, CategoricalNode_3581, CategoricalNode_3582, SumNode_3583, CategoricalNode_3584, SumNode_3585, CategoricalNode_3586, GaussianNode_3587, GaussianNode_3588, GaussianNode_3589, GaussianNode_3590, CategoricalNode_3591, CategoricalNode_3592, SumNode_3593, CategoricalNode_3594, GaussianNode_3595, CategoricalNode_3596, SumNode_3597, CategoricalNode_3598, GaussianNode_3599, GaussianNode_3600, GaussianNode_3601, GaussianNode_3602, CategoricalNode_3603, CategoricalNode_3604, GaussianNode_3605, GaussianNode_3606, GaussianNode_3607, GaussianNode_3608, CategoricalNode_3609, CategoricalNode_3610, GaussianNode_3611, GaussianNode_3612, GaussianNode_3613, GaussianNode_3614, CategoricalNode_3615, GaussianNode_3616, CategoricalNode_3617, SumNode_3618, CategoricalNode_3619, GaussianNode_3620, CategoricalNode_3621, SumNode_3622, CategoricalNode_3623, GaussianNode_3624, GaussianNode_3625, GaussianNode_3626, GaussianNode_3627, CategoricalNode_3628, CategoricalNode_3629, SumNode_3630, CategoricalNode_3631, GaussianNode_3632, GaussianNode_3633, GaussianNode_3634, GaussianNode_3635, CategoricalNode_3636, GaussianNode_3637, SumNode_3638, CategoricalNode_3639, GaussianNode_3640, GaussianNode_3641, GaussianNode_3642, GaussianNode_3643, GaussianNode_3644, CategoricalNode_3645, GaussianNode_3646, GaussianNode_3647, GaussianNode_3648, GaussianNode_3649, GaussianNode_3650, CategoricalNode_3651, GaussianNode_3652, GaussianNode_3653, GaussianNode_3654, GaussianNode_3655, GaussianNode_3656, CategoricalNode_3657, GaussianNode_3658, GaussianNode_3659, GaussianNode_3660, GaussianNode_3661, GaussianNode_3662, CategoricalNode_3663, GaussianNode_3664, GaussianNode_3665, GaussianNode_3666, GaussianNode_3667, GaussianNode_3668, GaussianNode_3669, SumNode_3670, CategoricalNode_3671, GaussianNode_3672, GaussianNode_3673, GaussianNode_3674, GaussianNode_3675, GaussianNode_3676, CategoricalNode_3677, SumNode_3678, CategoricalNode_3679, GaussianNode_3680, GaussianNode_3681, GaussianNode_3682, GaussianNode_3683, GaussianNode_3684, GaussianNode_3685, SumNode_3686, CategoricalNode_3687, GaussianNode_3688, GaussianNode_3689, GaussianNode_3690, GaussianNode_3691, GaussianNode_3692, CategoricalNode_3693, GaussianNode_3694, GaussianNode_3695, GaussianNode_3696, GaussianNode_3697, GaussianNode_3698, CategoricalNode_3699, GaussianNode_3700, GaussianNode_3701, GaussianNode_3702, GaussianNode_3703, GaussianNode_3704, CategoricalNode_3705, GaussianNode_3706, GaussianNode_3707, GaussianNode_3708, GaussianNode_3709, GaussianNode_3710, CategoricalNode_3711, GaussianNode_3712, GaussianNode_3713, GaussianNode_3714, GaussianNode_3715, CategoricalNode_3716, GaussianNode_3717, GaussianNode_3718, GaussianNode_3719, GaussianNode_3720, CategoricalNode_3721, GaussianNode_3722, GaussianNode_3723, GaussianNode_3724, GaussianNode_3725, CategoricalNode_3726, CategoricalNode_3727, GaussianNode_3728, GaussianNode_3729, GaussianNode_3730, GaussianNode_3731, CategoricalNode_3732, CategoricalNode_3733, GaussianNode_3734, GaussianNode_3735, GaussianNode_3736, GaussianNode_3737, CategoricalNode_3738, GaussianNode_3739, GaussianNode_3740, GaussianNode_3741, GaussianNode_3742, GaussianNode_3743, GaussianNode_3744, GaussianNode_3745, GaussianNode_3746, GaussianNode_3747, CategoricalNode_3748, GaussianNode_3749, GaussianNode_3750, GaussianNode_3751, GaussianNode_3752, GaussianNode_3753, CategoricalNode_3754, CategoricalNode_3755, GaussianNode_3756, GaussianNode_3757, GaussianNode_3758, GaussianNode_3759, CategoricalNode_3760, GaussianNode_3761, GaussianNode_3762, GaussianNode_3763, GaussianNode_3764, CategoricalNode_3765, GaussianNode_3766, GaussianNode_3767, GaussianNode_3768, GaussianNode_3769, GaussianNode_3770, CategoricalNode_3771, GaussianNode_3772, GaussianNode_3773, GaussianNode_3774, GaussianNode_3775, GaussianNode_3776, CategoricalNode_3777, GaussianNode_3778, GaussianNode_3779, GaussianNode_3780, GaussianNode_3781, CategoricalNode_3782, CategoricalNode_3783, GaussianNode_3784, GaussianNode_3785, GaussianNode_3786, GaussianNode_3787, CategoricalNode_3788, CategoricalNode_3789, GaussianNode_3790, GaussianNode_3791, GaussianNode_3792, GaussianNode_3793, CategoricalNode_3794, CategoricalNode_3795, GaussianNode_3796, GaussianNode_3797, GaussianNode_3798, GaussianNode_3799, CategoricalNode_3800, CategoricalNode_3801, GaussianNode_3802, GaussianNode_3803, GaussianNode_3804, GaussianNode_3805, GaussianNode_3806, CategoricalNode_3807, GaussianNode_3808, GaussianNode_3809, GaussianNode_3810, GaussianNode_3811, GaussianNode_3812, CategoricalNode_3813, GaussianNode_3814, GaussianNode_3815, GaussianNode_3816, GaussianNode_3817, CategoricalNode_3818, CategoricalNode_3819, GaussianNode_3820, GaussianNode_3821, GaussianNode_3822, GaussianNode_3823, CategoricalNode_3824, CategoricalNode_3825, GaussianNode_3826, GaussianNode_3827, GaussianNode_3828, GaussianNode_3829, CategoricalNode_3830, CategoricalNode_3831, GaussianNode_3832, GaussianNode_3833, GaussianNode_3834, GaussianNode_3835, CategoricalNode_3836, CategoricalNode_3837, GaussianNode_3838, GaussianNode_3839, GaussianNode_3840, GaussianNode_3841, GaussianNode_3842, CategoricalNode_3843, GaussianNode_3844, GaussianNode_3845, GaussianNode_3846, GaussianNode_3847, GaussianNode_3848, GaussianNode_3849, SumNode_3850, GaussianNode_3851, SumNode_3852, CategoricalNode_3853, GaussianNode_3854, SumNode_3855, CategoricalNode_3856, GaussianNode_3857, GaussianNode_3858, GaussianNode_3859, GaussianNode_3860, GaussianNode_3861, CategoricalNode_3862, GaussianNode_3863, GaussianNode_3864, GaussianNode_3865, GaussianNode_3866, GaussianNode_3867, GaussianNode_3868, GaussianNode_3869, GaussianNode_3870, GaussianNode_3871, GaussianNode_3872, GaussianNode_3873, GaussianNode_3874, GaussianNode_3875, CategoricalNode_3876, SumNode_3877, CategoricalNode_3878, GaussianNode_3879, GaussianNode_3880, GaussianNode_3881, GaussianNode_3882, CategoricalNode_3883, CategoricalNode_3884, GaussianNode_3885, GaussianNode_3886, CategoricalNode_3887, GaussianNode_3888, GaussianNode_3889, CategoricalNode_3890, GaussianNode_3891, GaussianNode_3892, CategoricalNode_3893, GaussianNode_3894, GaussianNode_3895, CategoricalNode_3896, GaussianNode_3897, GaussianNode_3898, CategoricalNode_3899, GaussianNode_3900, GaussianNode_3901, GaussianNode_3902, SumNode_3903, CategoricalNode_3904, GaussianNode_3905, GaussianNode_3906, GaussianNode_3907, GaussianNode_3908, CategoricalNode_3909, SumNode_3910, CategoricalNode_3911, GaussianNode_3912, GaussianNode_3913, GaussianNode_3914, CategoricalNode_3915, CategoricalNode_3916, SumNode_3917, CategoricalNode_3918, GaussianNode_3919, GaussianNode_3920, GaussianNode_3921, CategoricalNode_3922, CategoricalNode_3923, GaussianNode_3924, GaussianNode_3925, GaussianNode_3926, CategoricalNode_3927, CategoricalNode_3928, GaussianNode_3929, GaussianNode_3930, GaussianNode_3931, CategoricalNode_3932, GaussianNode_3933, GaussianNode_3934, GaussianNode_3935, GaussianNode_3936, GaussianNode_3937, GaussianNode_3938, GaussianNode_3939, GaussianNode_3940, GaussianNode_3941, CategoricalNode_3942, GaussianNode_3943, SumNode_3944, CategoricalNode_3945, GaussianNode_3946, GaussianNode_3947, GaussianNode_3948, GaussianNode_3949, CategoricalNode_3950, CategoricalNode_3951, GaussianNode_3952, GaussianNode_3953, GaussianNode_3954, GaussianNode_3955, CategoricalNode_3956, CategoricalNode_3957, CategoricalNode_3958, SumNode_3959, CategoricalNode_3960, GaussianNode_3961, GaussianNode_3962, GaussianNode_3963, GaussianNode_3964, CategoricalNode_3965, GaussianNode_3966, SumNode_3967, CategoricalNode_3968, SumNode_3969, CategoricalNode_3970, SumNode_3971, CategoricalNode_3972, GaussianNode_3973, GaussianNode_3974, GaussianNode_3975, GaussianNode_3976, CategoricalNode_3977, CategoricalNode_3978, SumNode_3979, CategoricalNode_3980, GaussianNode_3981, GaussianNode_3982, GaussianNode_3983, GaussianNode_3984, CategoricalNode_3985, CategoricalNode_3986, GaussianNode_3987, GaussianNode_3988, GaussianNode_3989, GaussianNode_3990, CategoricalNode_3991, CategoricalNode_3992, GaussianNode_3993, GaussianNode_3994, GaussianNode_3995, GaussianNode_3996, CategoricalNode_3997, CategoricalNode_3998, GaussianNode_3999, GaussianNode_4000, GaussianNode_4001, GaussianNode_4002, CategoricalNode_4003, CategoricalNode_4004, GaussianNode_4005, GaussianNode_4006, GaussianNode_4007, GaussianNode_4008, CategoricalNode_4009, CategoricalNode_4010, GaussianNode_4011, GaussianNode_4012, GaussianNode_4013, GaussianNode_4014, CategoricalNode_4015, CategoricalNode_4016, GaussianNode_4017, GaussianNode_4018, GaussianNode_4019, GaussianNode_4020, CategoricalNode_4021, CategoricalNode_4022, SumNode_4023, GaussianNode_4024, SumNode_4025, CategoricalNode_4026, GaussianNode_4027, GaussianNode_4028, GaussianNode_4029, GaussianNode_4030, CategoricalNode_4031, GaussianNode_4032, GaussianNode_4033, CategoricalNode_4034, SumNode_4035, GaussianNode_4036, CategoricalNode_4037, SumNode_4038, CategoricalNode_4039, GaussianNode_4040, GaussianNode_4041, GaussianNode_4042, GaussianNode_4043, CategoricalNode_4044, CategoricalNode_4045, GaussianNode_4046, GaussianNode_4047, GaussianNode_4048, GaussianNode_4049, CategoricalNode_4050, CategoricalNode_4051, GaussianNode_4052, GaussianNode_4053, GaussianNode_4054, GaussianNode_4055, CategoricalNode_4056, CategoricalNode_4057, GaussianNode_4058, GaussianNode_4059, GaussianNode_4060, GaussianNode_4061, CategoricalNode_4062, CategoricalNode_4063, SumNode_4064, CategoricalNode_4065, GaussianNode_4066, GaussianNode_4067, GaussianNode_4068, GaussianNode_4069, CategoricalNode_4070, CategoricalNode_4071, SumNode_4072, CategoricalNode_4073, GaussianNode_4074, GaussianNode_4075, GaussianNode_4076, GaussianNode_4077, CategoricalNode_4078, CategoricalNode_4079, SumNode_4080, GaussianNode_4081, SumNode_4082, CategoricalNode_4083, GaussianNode_4084, GaussianNode_4085, GaussianNode_4086, GaussianNode_4087, CategoricalNode_4088, GaussianNode_4089, GaussianNode_4090, GaussianNode_4091, GaussianNode_4092, GaussianNode_4093, SumNode_4094, CategoricalNode_4095, SumNode_4096, CategoricalNode_4097, SumNode_4098, CategoricalNode_4099, GaussianNode_4100, GaussianNode_4101, GaussianNode_4102, GaussianNode_4103, CategoricalNode_4104, CategoricalNode_4105, GaussianNode_4106, GaussianNode_4107, GaussianNode_4108, GaussianNode_4109, CategoricalNode_4110, CategoricalNode_4111, GaussianNode_4112, GaussianNode_4113, GaussianNode_4114, GaussianNode_4115, GaussianNode_4116, CategoricalNode_4117, GaussianNode_4118, GaussianNode_4119, GaussianNode_4120, GaussianNode_4121, GaussianNode_4122, CategoricalNode_4123, GaussianNode_4124, GaussianNode_4125, GaussianNode_4126, GaussianNode_4127, GaussianNode_4128, CategoricalNode_4129, SumNode_4130, CategoricalNode_4131, GaussianNode_4132, GaussianNode_4133, GaussianNode_4134, GaussianNode_4135, CategoricalNode_4136, CategoricalNode_4137, GaussianNode_4138, GaussianNode_4139, GaussianNode_4140, GaussianNode_4141, CategoricalNode_4142, CategoricalNode_4143, GaussianNode_4144, GaussianNode_4145, GaussianNode_4146, GaussianNode_4147, CategoricalNode_4148, CategoricalNode_4149, GaussianNode_4150, GaussianNode_4151, GaussianNode_4152, GaussianNode_4153, CategoricalNode_4154, GaussianNode_4155, SumNode_4156, CategoricalNode_4157, GaussianNode_4158, GaussianNode_4159, GaussianNode_4160, GaussianNode_4161, GaussianNode_4162, CategoricalNode_4163, GaussianNode_4164, GaussianNode_4165, GaussianNode_4166, GaussianNode_4167, GaussianNode_4168, CategoricalNode_4169, GaussianNode_4170, GaussianNode_4171, GaussianNode_4172, CategoricalNode_4173, CategoricalNode_4174, GaussianNode_4175, GaussianNode_4176, GaussianNode_4177, CategoricalNode_4178, GaussianNode_4179, GaussianNode_4180, GaussianNode_4181, GaussianNode_4182, GaussianNode_4183, CategoricalNode_4184, GaussianNode_4185, GaussianNode_4186, GaussianNode_4187, GaussianNode_4188, GaussianNode_4189, CategoricalNode_4190, CategoricalNode_4191, GaussianNode_4192, GaussianNode_4193, GaussianNode_4194, GaussianNode_4195, GaussianNode_4196, CategoricalNode_4197, GaussianNode_4198, GaussianNode_4199, GaussianNode_4200, GaussianNode_4201, GaussianNode_4202, CategoricalNode_4203, GaussianNode_4204, GaussianNode_4205, GaussianNode_4206, GaussianNode_4207, GaussianNode_4208, CategoricalNode_4209, GaussianNode_4210, GaussianNode_4211, GaussianNode_4212, GaussianNode_4213, CategoricalNode_4214, CategoricalNode_4215, GaussianNode_4216, GaussianNode_4217, GaussianNode_4218, GaussianNode_4219, CategoricalNode_4220, GaussianNode_4221, SumNode_4222, CategoricalNode_4223, GaussianNode_4224, GaussianNode_4225, GaussianNode_4226, GaussianNode_4227, GaussianNode_4228, CategoricalNode_4229, GaussianNode_4230, GaussianNode_4231, GaussianNode_4232, GaussianNode_4233, GaussianNode_4234, CategoricalNode_4235, GaussianNode_4236, GaussianNode_4237, GaussianNode_4238, GaussianNode_4239, GaussianNode_4240, CategoricalNode_4241, GaussianNode_4242, GaussianNode_4243, GaussianNode_4244, GaussianNode_4245, GaussianNode_4246, CategoricalNode_4247, GaussianNode_4248, GaussianNode_4249, GaussianNode_4250, GaussianNode_4251, GaussianNode_4252, CategoricalNode_4253, GaussianNode_4254, GaussianNode_4255, GaussianNode_4256, GaussianNode_4257, GaussianNode_4258, CategoricalNode_4259, GaussianNode_4260, GaussianNode_4261, GaussianNode_4262, GaussianNode_4263, GaussianNode_4264, GaussianNode_4265, GaussianNode_4266, GaussianNode_4267, GaussianNode_4268, GaussianNode_4269, GaussianNode_4270, GaussianNode_4271, GaussianNode_4272, GaussianNode_4273, GaussianNode_4274, GaussianNode_4275, GaussianNode_4276, GaussianNode_4277, GaussianNode_4278, GaussianNode_4279, GaussianNode_4280, GaussianNode_4281, GaussianNode_4282, GaussianNode_4283, GaussianNode_4284, GaussianNode_4285, GaussianNode_4286, CategoricalNode_4287, GaussianNode_4288, GaussianNode_4289, GaussianNode_4290, GaussianNode_4291, GaussianNode_4292, CategoricalNode_4293, GaussianNode_4294, GaussianNode_4295, GaussianNode_4296, GaussianNode_4297, GaussianNode_4298, GaussianNode_4299, GaussianNode_4300, GaussianNode_4301, GaussianNode_4302, GaussianNode_4303, GaussianNode_4304, GaussianNode_4305, GaussianNode_4306, GaussianNode_4307, GaussianNode_4308, GaussianNode_4309, GaussianNode_4310, CategoricalNode_4311, GaussianNode_4312, GaussianNode_4313, GaussianNode_4314, GaussianNode_4315, GaussianNode_4316, CategoricalNode_4317, GaussianNode_4318, GaussianNode_4319, GaussianNode_4320, GaussianNode_4321, GaussianNode_4322, GaussianNode_4323, GaussianNode_4324, GaussianNode_4325, GaussianNode_4326, GaussianNode_4327, GaussianNode_4328, GaussianNode_4329, GaussianNode_4330, GaussianNode_4331, GaussianNode_4332, CategoricalNode_4333, GaussianNode_4334, GaussianNode_4335, GaussianNode_4336, GaussianNode_4337, GaussianNode_4338, CategoricalNode_4339, GaussianNode_4340, GaussianNode_4341, GaussianNode_4342, GaussianNode_4343, GaussianNode_4344, CategoricalNode_4345, GaussianNode_4346, GaussianNode_4347, GaussianNode_4348, GaussianNode_4349, GaussianNode_4350, CategoricalNode_4351, GaussianNode_4352, GaussianNode_4353, GaussianNode_4354, GaussianNode_4355, GaussianNode_4356, CategoricalNode_4357, GaussianNode_4358, GaussianNode_4359, GaussianNode_4360, GaussianNode_4361, GaussianNode_4362, CategoricalNode_4363, GaussianNode_4364, GaussianNode_4365, GaussianNode_4366, GaussianNode_4367, GaussianNode_4368, CategoricalNode_4369, GaussianNode_4370, GaussianNode_4371, GaussianNode_4372, GaussianNode_4373, GaussianNode_4374, CategoricalNode_4375, GaussianNode_4376, GaussianNode_4377, GaussianNode_4378, GaussianNode_4379, GaussianNode_4380, CategoricalNode_4381, GaussianNode_4382, GaussianNode_4383, GaussianNode_4384, GaussianNode_4385, GaussianNode_4386, CategoricalNode_4387, GaussianNode_4388, GaussianNode_4389, GaussianNode_4390, GaussianNode_4391, GaussianNode_4392, CategoricalNode_4393, GaussianNode_4394, GaussianNode_4395, GaussianNode_4396, GaussianNode_4397, GaussianNode_4398, CategoricalNode_4399, GaussianNode_4400, GaussianNode_4401, GaussianNode_4402, GaussianNode_4403, GaussianNode_4404, GaussianNode_4405, GaussianNode_4406, GaussianNode_4407, GaussianNode_4408, GaussianNode_4409, GaussianNode_4410, GaussianNode_4411, GaussianNode_4412, GaussianNode_4413, GaussianNode_4414, GaussianNode_4415, GaussianNode_4416, GaussianNode_4417, GaussianNode_4418, GaussianNode_4419, GaussianNode_4420, GaussianNode_4421, GaussianNode_4422, GaussianNode_4423, GaussianNode_4424, GaussianNode_4425, GaussianNode_4426, GaussianNode_4427, GaussianNode_4428, GaussianNode_4429, GaussianNode_4430, GaussianNode_4431, GaussianNode_4432, GaussianNode_4433, GaussianNode_4434, GaussianNode_4435, GaussianNode_4436, GaussianNode_4437, GaussianNode_4438, ProductNode_4439, ProductNode_4440, ProductNode_4441, ProductNode_4442, ProductNode_4443, ProductNode_4444, ProductNode_4445, ProductNode_4446, ProductNode_4447, ProductNode_4448, ProductNode_4449, ProductNode_4450, ProductNode_4451, ProductNode_4452, ProductNode_4453, ProductNode_4454, ProductNode_4455, ProductNode_4456, ProductNode_4457, ProductNode_4458, ProductNode_4459, ProductNode_4460, ProductNode_4461, ProductNode_4462, ProductNode_4463, ProductNode_4464, ProductNode_4465, ProductNode_4466, ProductNode_4467, ProductNode_4468, ProductNode_4469, ProductNode_4470, ProductNode_4471, ProductNode_4472, ProductNode_4473, ProductNode_4474, ProductNode_4475, ProductNode_4476, ProductNode_4477, ProductNode_4478, ProductNode_4479, ProductNode_4480, ProductNode_4481, ProductNode_4482, ProductNode_4483, ProductNode_4484, ProductNode_4485, ProductNode_4486, ProductNode_4487, ProductNode_4488, ProductNode_4489, ProductNode_4490, ProductNode_4491, ProductNode_4492, ProductNode_4493, ProductNode_4494, ProductNode_4495, ProductNode_4496, ProductNode_4497, ProductNode_4498, ProductNode_4499, ProductNode_4500, ProductNode_4501, ProductNode_4502, ProductNode_4503, ProductNode_4504, ProductNode_4505, ProductNode_4506, ProductNode_4507, ProductNode_4508, ProductNode_4509, ProductNode_4510, ProductNode_4511, ProductNode_4512, ProductNode_4513, ProductNode_4514, ProductNode_4515, ProductNode_4516, ProductNode_4517, ProductNode_4518, ProductNode_4519, ProductNode_4520, ProductNode_4521, ProductNode_4522, ProductNode_4523, ProductNode_4524, ProductNode_4525, ProductNode_4526, ProductNode_4527, ProductNode_4528, ProductNode_4529, ProductNode_4530, ProductNode_4531, ProductNode_4532, ProductNode_4533, ProductNode_4534, ProductNode_4535, ProductNode_4536, ProductNode_4537, ProductNode_4538, ProductNode_4539, ProductNode_4540, ProductNode_4541, ProductNode_4542, ProductNode_4543, ProductNode_4544, ProductNode_4545, ProductNode_4546, ProductNode_4547, CategoricalNode_4548, GaussianNode_4549, GaussianNode_4550, GaussianNode_4551, GaussianNode_4552, CategoricalNode_4553, GaussianNode_4554, GaussianNode_4555, GaussianNode_4556, GaussianNode_4557, GaussianNode_4558, GaussianNode_4559, GaussianNode_4560, GaussianNode_4561, GaussianNode_4562, GaussianNode_4563, GaussianNode_4564, GaussianNode_4565, CategoricalNode_4566, GaussianNode_4567, GaussianNode_4568, GaussianNode_4569, GaussianNode_4570, CategoricalNode_4571, GaussianNode_4572, GaussianNode_4573, GaussianNode_4574, GaussianNode_4575, CategoricalNode_4576, GaussianNode_4577, GaussianNode_4578, GaussianNode_4579, GaussianNode_4580, CategoricalNode_4581, GaussianNode_4582, GaussianNode_4583, GaussianNode_4584, GaussianNode_4585, CategoricalNode_4586, GaussianNode_4587, GaussianNode_4588, GaussianNode_4589, CategoricalNode_4590, GaussianNode_4591, GaussianNode_4592, GaussianNode_4593, CategoricalNode_4594, GaussianNode_4595, GaussianNode_4596, GaussianNode_4597, GaussianNode_4598, CategoricalNode_4599, GaussianNode_4600, GaussianNode_4601, GaussianNode_4602, GaussianNode_4603, CategoricalNode_4604, GaussianNode_4605, GaussianNode_4606, GaussianNode_4607, GaussianNode_4608, CategoricalNode_4609, GaussianNode_4610, GaussianNode_4611, GaussianNode_4612, CategoricalNode_4613, GaussianNode_4614, GaussianNode_4615, GaussianNode_4616, GaussianNode_4617, GaussianNode_4618, GaussianNode_4619, GaussianNode_4620, GaussianNode_4621, GaussianNode_4622, GaussianNode_4623, GaussianNode_4624, CategoricalNode_4625, GaussianNode_4626, GaussianNode_4627, GaussianNode_4628, GaussianNode_4629, CategoricalNode_4630, GaussianNode_4631, GaussianNode_4632, GaussianNode_4633, GaussianNode_4634, GaussianNode_4635, SumNode_4636, CategoricalNode_4637, GaussianNode_4638, GaussianNode_4639, GaussianNode_4640, GaussianNode_4641, CategoricalNode_4642, GaussianNode_4643, GaussianNode_4644, GaussianNode_4645, GaussianNode_4646, CategoricalNode_4647, GaussianNode_4648, GaussianNode_4649, GaussianNode_4650, GaussianNode_4651, CategoricalNode_4652, GaussianNode_4653, GaussianNode_4654, GaussianNode_4655, GaussianNode_4656, CategoricalNode_4657, GaussianNode_4658, GaussianNode_4659, GaussianNode_4660, GaussianNode_4661, CategoricalNode_4662, GaussianNode_4663, GaussianNode_4664, GaussianNode_4665, GaussianNode_4666, CategoricalNode_4667, GaussianNode_4668, GaussianNode_4669, GaussianNode_4670, GaussianNode_4671, CategoricalNode_4672, GaussianNode_4673, GaussianNode_4674, GaussianNode_4675, GaussianNode_4676, CategoricalNode_4677, GaussianNode_4678, GaussianNode_4679, GaussianNode_4680, GaussianNode_4681, GaussianNode_4682, GaussianNode_4683, GaussianNode_4684, GaussianNode_4685, GaussianNode_4686, GaussianNode_4687, CategoricalNode_4688, GaussianNode_4689, GaussianNode_4690, GaussianNode_4691, CategoricalNode_4692, GaussianNode_4693, GaussianNode_4694, GaussianNode_4695, CategoricalNode_4696, GaussianNode_4697, GaussianNode_4698, GaussianNode_4699, GaussianNode_4700, GaussianNode_4701, GaussianNode_4702, GaussianNode_4703, GaussianNode_4704, GaussianNode_4705, CategoricalNode_4706, GaussianNode_4707, GaussianNode_4708, GaussianNode_4709, GaussianNode_4710, CategoricalNode_4711, GaussianNode_4712, GaussianNode_4713, GaussianNode_4714, GaussianNode_4715, CategoricalNode_4716, GaussianNode_4717, GaussianNode_4718, GaussianNode_4719, GaussianNode_4720, CategoricalNode_4721, GaussianNode_4722, GaussianNode_4723, GaussianNode_4724, GaussianNode_4725, CategoricalNode_4726, GaussianNode_4727, GaussianNode_4728, GaussianNode_4729, GaussianNode_4730, CategoricalNode_4731, GaussianNode_4732, GaussianNode_4733, GaussianNode_4734, GaussianNode_4735, GaussianNode_4736, GaussianNode_4737, GaussianNode_4738, GaussianNode_4739, GaussianNode_4740, GaussianNode_4741, GaussianNode_4742, GaussianNode_4743, GaussianNode_4744, GaussianNode_4745, CategoricalNode_4746, GaussianNode_4747, GaussianNode_4748, GaussianNode_4749, GaussianNode_4750, CategoricalNode_4751, GaussianNode_4752, GaussianNode_4753, GaussianNode_4754, GaussianNode_4755, CategoricalNode_4756, GaussianNode_4757, GaussianNode_4758, GaussianNode_4759, GaussianNode_4760, CategoricalNode_4761, GaussianNode_4762, GaussianNode_4763, GaussianNode_4764, GaussianNode_4765, CategoricalNode_4766, GaussianNode_4767, GaussianNode_4768, GaussianNode_4769, GaussianNode_4770, CategoricalNode_4771, GaussianNode_4772, GaussianNode_4773, GaussianNode_4774, GaussianNode_4775, GaussianNode_4776, GaussianNode_4777, GaussianNode_4778, GaussianNode_4779, GaussianNode_4780, GaussianNode_4781, GaussianNode_4782, GaussianNode_4783, GaussianNode_4784, GaussianNode_4785, GaussianNode_4786, GaussianNode_4787, CategoricalNode_4788, GaussianNode_4789, GaussianNode_4790, GaussianNode_4791, GaussianNode_4792, CategoricalNode_4793, GaussianNode_4794, GaussianNode_4795, GaussianNode_4796, GaussianNode_4797, CategoricalNode_4798, GaussianNode_4799, GaussianNode_4800, GaussianNode_4801, CategoricalNode_4802, GaussianNode_4803, GaussianNode_4804, GaussianNode_4805, CategoricalNode_4806, GaussianNode_4807, GaussianNode_4808, GaussianNode_4809, CategoricalNode_4810, GaussianNode_4811, GaussianNode_4812, GaussianNode_4813, CategoricalNode_4814, GaussianNode_4815, GaussianNode_4816, GaussianNode_4817, CategoricalNode_4818, GaussianNode_4819, GaussianNode_4820, GaussianNode_4821, CategoricalNode_4822, GaussianNode_4823, GaussianNode_4824, GaussianNode_4825, GaussianNode_4826, GaussianNode_4827, GaussianNode_4828, CategoricalNode_4829, GaussianNode_4830, GaussianNode_4831, GaussianNode_4832, CategoricalNode_4833, GaussianNode_4834, GaussianNode_4835, GaussianNode_4836, GaussianNode_4837, GaussianNode_4838, GaussianNode_4839, GaussianNode_4840, GaussianNode_4841, CategoricalNode_4842, GaussianNode_4843, GaussianNode_4844, GaussianNode_4845, CategoricalNode_4846, CategoricalNode_4847, GaussianNode_4848, GaussianNode_4849, GaussianNode_4850, CategoricalNode_4851, GaussianNode_4852, GaussianNode_4853, GaussianNode_4854, GaussianNode_4855, CategoricalNode_4856, GaussianNode_4857, GaussianNode_4858, GaussianNode_4859, GaussianNode_4860, CategoricalNode_4861, CategoricalNode_4862, GaussianNode_4863, GaussianNode_4864, GaussianNode_4865, GaussianNode_4866, CategoricalNode_4867, GaussianNode_4868, GaussianNode_4869, GaussianNode_4870, GaussianNode_4871, CategoricalNode_4872, GaussianNode_4873, GaussianNode_4874, GaussianNode_4875, GaussianNode_4876, CategoricalNode_4877, GaussianNode_4878, GaussianNode_4879, GaussianNode_4880, GaussianNode_4881, GaussianNode_4882, GaussianNode_4883, GaussianNode_4884, GaussianNode_4885, CategoricalNode_4886, GaussianNode_4887, GaussianNode_4888, GaussianNode_4889, GaussianNode_4890, CategoricalNode_4891, CategoricalNode_4892, GaussianNode_4893, GaussianNode_4894, GaussianNode_4895, CategoricalNode_4896, CategoricalNode_4897, GaussianNode_4898, GaussianNode_4899, GaussianNode_4900, CategoricalNode_4901, CategoricalNode_4902, GaussianNode_4903, GaussianNode_4904, CategoricalNode_4905, GaussianNode_4906, GaussianNode_4907, CategoricalNode_4908, GaussianNode_4909, GaussianNode_4910, GaussianNode_4911, CategoricalNode_4912, GaussianNode_4913, GaussianNode_4914, GaussianNode_4915, GaussianNode_4916, GaussianNode_4917, GaussianNode_4918, GaussianNode_4919, CategoricalNode_4920, GaussianNode_4921, GaussianNode_4922, GaussianNode_4923, GaussianNode_4924, CategoricalNode_4925, GaussianNode_4926, SumNode_4927, CategoricalNode_4928, GaussianNode_4929, GaussianNode_4930, GaussianNode_4931, GaussianNode_4932, CategoricalNode_4933, GaussianNode_4934, GaussianNode_4935, GaussianNode_4936, GaussianNode_4937, CategoricalNode_4938, GaussianNode_4939, GaussianNode_4940, GaussianNode_4941, GaussianNode_4942, CategoricalNode_4943, GaussianNode_4944, GaussianNode_4945, GaussianNode_4946, GaussianNode_4947, CategoricalNode_4948, GaussianNode_4949, GaussianNode_4950, GaussianNode_4951, GaussianNode_4952, CategoricalNode_4953, GaussianNode_4954, GaussianNode_4955, GaussianNode_4956, CategoricalNode_4957, CategoricalNode_4958, GaussianNode_4959, GaussianNode_4960, GaussianNode_4961, CategoricalNode_4962, CategoricalNode_4963, GaussianNode_4964, GaussianNode_4965, GaussianNode_4966, CategoricalNode_4967, CategoricalNode_4968, GaussianNode_4969, GaussianNode_4970, GaussianNode_4971, CategoricalNode_4972, CategoricalNode_4973, GaussianNode_4974, GaussianNode_4975, GaussianNode_4976, GaussianNode_4977, CategoricalNode_4978, GaussianNode_4979, GaussianNode_4980, GaussianNode_4981, GaussianNode_4982, CategoricalNode_4983, GaussianNode_4984, GaussianNode_4985, GaussianNode_4986, GaussianNode_4987, CategoricalNode_4988, GaussianNode_4989, GaussianNode_4990, GaussianNode_4991, GaussianNode_4992, CategoricalNode_4993, GaussianNode_4994, GaussianNode_4995, GaussianNode_4996, GaussianNode_4997, CategoricalNode_4998, GaussianNode_4999, GaussianNode_5000, GaussianNode_5001, GaussianNode_5002, CategoricalNode_5003, GaussianNode_5004, GaussianNode_5005, GaussianNode_5006, GaussianNode_5007, CategoricalNode_5008, GaussianNode_5009, GaussianNode_5010, GaussianNode_5011, GaussianNode_5012, CategoricalNode_5013, GaussianNode_5014, GaussianNode_5015, GaussianNode_5016, GaussianNode_5017, CategoricalNode_5018, GaussianNode_5019, GaussianNode_5020, GaussianNode_5021, GaussianNode_5022, CategoricalNode_5023, GaussianNode_5024, GaussianNode_5025, GaussianNode_5026, GaussianNode_5027, CategoricalNode_5028, GaussianNode_5029, GaussianNode_5030, GaussianNode_5031, GaussianNode_5032, CategoricalNode_5033, GaussianNode_5034, GaussianNode_5035, GaussianNode_5036, GaussianNode_5037, CategoricalNode_5038, GaussianNode_5039, GaussianNode_5040, GaussianNode_5041, GaussianNode_5042, CategoricalNode_5043, GaussianNode_5044, GaussianNode_5045, GaussianNode_5046, GaussianNode_5047, ProductNode_5048, ProductNode_5049, ProductNode_5050, ProductNode_5051, CategoricalNode_5052, GaussianNode_5053, GaussianNode_5054, GaussianNode_5055, CategoricalNode_5056, GaussianNode_5057, GaussianNode_5058, GaussianNode_5059, CategoricalNode_5060, GaussianNode_5061, GaussianNode_5062, GaussianNode_5063, CategoricalNode_5064, GaussianNode_5065, GaussianNode_5066, GaussianNode_5067]\n"
     ]
    }
   ],
   "source": [
    "plot_spn(spn, 'basicspn.png')"
   ]
  },
  {
   "cell_type": "code",
   "execution_count": 1,
   "metadata": {},
   "outputs": [
    {
     "ename": "NameError",
     "evalue": "name 'spn' is not defined",
     "output_type": "error",
     "traceback": [
      "\u001b[1;31m---------------------------------------------------------------------------\u001b[0m",
      "\u001b[1;31mNameError\u001b[0m                                 Traceback (most recent call last)",
      "\u001b[1;32m<ipython-input-1-95635679b5e7>\u001b[0m in \u001b[0;36m<module>\u001b[1;34m\u001b[0m\n\u001b[0;32m      1\u001b[0m \u001b[1;32mfrom\u001b[0m \u001b[0mspn\u001b[0m\u001b[1;33m.\u001b[0m\u001b[0mio\u001b[0m\u001b[1;33m.\u001b[0m\u001b[0mText\u001b[0m \u001b[1;32mimport\u001b[0m \u001b[0mspn_to_str_equation\u001b[0m\u001b[1;33m\u001b[0m\u001b[0m\n\u001b[1;32m----> 2\u001b[1;33m \u001b[0mtxt\u001b[0m \u001b[1;33m=\u001b[0m \u001b[0mspn_to_str_equation\u001b[0m\u001b[1;33m(\u001b[0m\u001b[0mspn\u001b[0m\u001b[1;33m)\u001b[0m\u001b[1;33m\u001b[0m\u001b[0m\n\u001b[0m\u001b[0;32m      3\u001b[0m \u001b[0mprint\u001b[0m\u001b[1;33m(\u001b[0m\u001b[0mtxt\u001b[0m\u001b[1;33m)\u001b[0m\u001b[1;33m\u001b[0m\u001b[0m\n",
      "\u001b[1;31mNameError\u001b[0m: name 'spn' is not defined"
     ]
    }
   ],
   "source": [
    "from spn.io.Text import spn_to_str_equation\n",
    "txt = spn_to_str_equation(spn)\n",
    "print(txt)"
   ]
  },
  {
   "cell_type": "code",
   "execution_count": null,
   "metadata": {},
   "outputs": [],
   "source": [
    "from spn.algorithms.Statistics import get_structure_stats\n",
    "print(get_structure_stats(spn))"
   ]
  },
  {
   "cell_type": "code",
   "execution_count": null,
   "metadata": {},
   "outputs": [],
   "source": [
    "from spn.algorithms.Inference import log_likelihood\n",
    "\n",
    "ll = log_likelihood(spn, train_data)\n",
    "print(ll, np.exp(ll))"
   ]
  },
  {
   "cell_type": "code",
   "execution_count": null,
   "metadata": {},
   "outputs": [],
   "source": [
    "dataset=df.as_matrix()\n",
    "test_data=dataset[600:,:]\n",
    "test_data_nan = np.array(test_data)\n",
    "test_data_nan[:,-1]=np.nan\n",
    "test_data_nan\n",
    "test_data_nan.shape"
   ]
  },
  {
   "cell_type": "code",
   "execution_count": null,
   "metadata": {},
   "outputs": [],
   "source": [
    "test_data.shape\n",
    "from spn.algorithms.MPE import mpe\n",
    "predicted=mpe(spn, test_data_nan)"
   ]
  },
  {
   "cell_type": "code",
   "execution_count": null,
   "metadata": {},
   "outputs": [],
   "source": [
    "test_data.shape\n",
    "predicted.shape"
   ]
  },
  {
   "cell_type": "code",
   "execution_count": null,
   "metadata": {},
   "outputs": [],
   "source": [
    "total=test_data[:,-1]==predicted[:,-1]\n",
    "np.sum(total)/168"
   ]
  },
  {
   "cell_type": "code",
   "execution_count": null,
   "metadata": {},
   "outputs": [],
   "source": [
    "print(test_data.shape)\n",
    "print(predicted.shape)"
   ]
  },
  {
   "cell_type": "code",
   "execution_count": null,
   "metadata": {},
   "outputs": [],
   "source": [
    "test_data_1=test_data[np.where(test_data[:,-1]==1)]\n",
    "test_data_1_nan = np.array(test_data_1)\n",
    "test_data_1_nan[:,-1]=np.nan\n",
    "test_data_1"
   ]
  },
  {
   "cell_type": "code",
   "execution_count": null,
   "metadata": {},
   "outputs": [],
   "source": [
    "predicted=mpe(spn, test_data_1_nan)"
   ]
  },
  {
   "cell_type": "code",
   "execution_count": null,
   "metadata": {},
   "outputs": [],
   "source": [
    "predicted.shape"
   ]
  },
  {
   "cell_type": "code",
   "execution_count": null,
   "metadata": {},
   "outputs": [],
   "source": [
    "test_data_1"
   ]
  },
  {
   "cell_type": "code",
   "execution_count": null,
   "metadata": {},
   "outputs": [],
   "source": [
    "test_data_1.shape"
   ]
  },
  {
   "cell_type": "code",
   "execution_count": null,
   "metadata": {},
   "outputs": [],
   "source": [
    "total=test_data_1[:,-1]==predicted[:,-1]"
   ]
  },
  {
   "cell_type": "code",
   "execution_count": null,
   "metadata": {},
   "outputs": [],
   "source": [
    "np.sum(total)/60"
   ]
  },
  {
   "cell_type": "code",
   "execution_count": null,
   "metadata": {},
   "outputs": [],
   "source": [
    "test_data_0=test_data[np.where(test_data[:,-1]==0)]\n",
    "test_data_0_nan = np.array(test_data_0)\n",
    "test_data_0_nan[:,-1]=np.nan\n",
    "test_data_0"
   ]
  },
  {
   "cell_type": "code",
   "execution_count": null,
   "metadata": {},
   "outputs": [],
   "source": [
    "predicted=mpe(spn, test_data_0_nan)"
   ]
  },
  {
   "cell_type": "code",
   "execution_count": null,
   "metadata": {},
   "outputs": [],
   "source": [
    "predicted.shape"
   ]
  },
  {
   "cell_type": "code",
   "execution_count": null,
   "metadata": {},
   "outputs": [],
   "source": [
    "total=test_data_0[:,-1]==predicted[:,-1]"
   ]
  },
  {
   "cell_type": "code",
   "execution_count": null,
   "metadata": {},
   "outputs": [],
   "source": [
    "np.sum(total)/108"
   ]
  },
  {
   "cell_type": "code",
   "execution_count": null,
   "metadata": {},
   "outputs": [],
   "source": [
    "from spn.algorithms.Marginalization import marginalize\n",
    "\n",
    "spn_marg = marginalize(spn, [5,7,8])"
   ]
  },
  {
   "cell_type": "code",
   "execution_count": null,
   "metadata": {},
   "outputs": [],
   "source": [
    "txt = spn_to_str_equation(spn_marg)"
   ]
  },
  {
   "cell_type": "code",
   "execution_count": null,
   "metadata": {},
   "outputs": [],
   "source": [
    "txt"
   ]
  },
  {
   "cell_type": "code",
   "execution_count": null,
   "metadata": {},
   "outputs": [],
   "source": [
    "from numpy.random.mtrand import RandomState\n",
    "from spn.algorithms.Sampling import sample_instances\n",
    "generated_samples=sample_instances(spn, np.array([np.nan, np.nan, np.nan,np.nan,np.nan,np.nan,np.nan,np.nan,np.nan] * 168).reshape(-1, 9), RandomState(123))"
   ]
  },
  {
   "cell_type": "code",
   "execution_count": null,
   "metadata": {},
   "outputs": [],
   "source": [
    "generated_samples = generated_samples + 1\n",
    "generated_samples=generated_samples/np.sum(generated_samples,axis=0).sum()\n",
    "train_data=train_data+1\n",
    "train_data = train_data/np.sum(train_data,axis=0).sum()\n",
    "train_data.shape==generated_samples.shape\n",
    "train_data"
   ]
  },
  {
   "cell_type": "code",
   "execution_count": null,
   "metadata": {},
   "outputs": [],
   "source": [
    "import scipy"
   ]
  },
  {
   "cell_type": "code",
   "execution_count": null,
   "metadata": {},
   "outputs": [],
   "source": [
    "scipy.stats.entropy(test_data,generated_samples,10)"
   ]
  },
  {
   "cell_type": "code",
   "execution_count": null,
   "metadata": {},
   "outputs": [],
   "source": [
    "train_data=df.as_matrix()\n",
    "data =np.array(train_data[:100])"
   ]
  },
  {
   "cell_type": "code",
   "execution_count": null,
   "metadata": {},
   "outputs": [],
   "source": [
    "#BMI,AGE,OUTCOME\n",
    "data[:,5]=np.nan\n",
    "data.shape"
   ]
  },
  {
   "cell_type": "code",
   "execution_count": null,
   "metadata": {},
   "outputs": [],
   "source": [
    "data_result=mpe(spn, data) \n"
   ]
  },
  {
   "cell_type": "code",
   "execution_count": null,
   "metadata": {},
   "outputs": [],
   "source": [
    "train_data[:100,5]"
   ]
  },
  {
   "cell_type": "code",
   "execution_count": null,
   "metadata": {},
   "outputs": [],
   "source": [
    "data_result[:,5]"
   ]
  },
  {
   "cell_type": "code",
   "execution_count": null,
   "metadata": {},
   "outputs": [],
   "source": []
  }
 ],
 "metadata": {
  "kernelspec": {
   "display_name": "Python 3",
   "language": "python",
   "name": "python3"
  },
  "language_info": {
   "codemirror_mode": {
    "name": "ipython",
    "version": 3
   },
   "file_extension": ".py",
   "mimetype": "text/x-python",
   "name": "python",
   "nbconvert_exporter": "python",
   "pygments_lexer": "ipython3",
   "version": "3.5.4"
  }
 },
 "nbformat": 4,
 "nbformat_minor": 2
}
